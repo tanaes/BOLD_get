{
 "cells": [
  {
   "cell_type": "markdown",
   "metadata": {},
   "source": [
    "Getting consensus sequences from BOLD\n",
    "====================\n",
    "\n",
    "Use this python notebook to automatically get a consensus sequence for your taxa of interest from the BOLD db. \n",
    "\n",
    "To run, you'll need a python environment with scikit bio 0.2.3 (the version installed with Qiime 1.9.x) and the requests library for using RESTful APIs. To install this environment, you can use the following shell commands to download and install miniconda:\n",
    "\n",
    "    wget https://repo.continuum.io/miniconda/Miniconda-latest-Linux-x86_64.sh\n",
    "    chmod +x Miniconda-latest-Linux-x86_64.sh\n",
    "    ./Miniconda-latest-Linux-x86_64.sh -b\n",
    "    export PATH=${HOME}/miniconda/bin/:$PATH\n",
    "\n",
    "    conda create -n BOLD_get pip requests scikit-bio==0.2.3 notebook\n",
    "    source activate BOLD_get"
   ]
  },
  {
   "cell_type": "code",
   "execution_count": 235,
   "metadata": {
    "collapsed": true
   },
   "outputs": [],
   "source": [
    "import requests\n",
    "import subprocess\n",
    "import re\n",
    "\n",
    "from skbio.alignment import Alignment, SequenceCollection\n",
    "from skbio.parse.sequences import parse_fasta\n",
    "from skbio.sequence import DNA, DNASequence\n",
    "from StringIO import StringIO\n",
    "from skbio.format.sequences import fasta_from_sequences"
   ]
  },
  {
   "cell_type": "code",
   "execution_count": 236,
   "metadata": {
    "collapsed": false
   },
   "outputs": [],
   "source": [
    "# Align with muscle\n",
    "\n",
    "def muscle_align(fasta, muscle_x = 'muscle', muscle_params = []):\n",
    "    cmd = [muscle_x] #+ [muscle_params]\n",
    "    p = subprocess.Popen(cmd, stdout=subprocess.PIPE,\n",
    "                              stderr=subprocess.PIPE,\n",
    "                              stdin=subprocess.PIPE)\n",
    "    out, err = p.communicate(fasta)\n",
    "    return out, err\n"
   ]
  },
  {
   "cell_type": "code",
   "execution_count": 237,
   "metadata": {
    "collapsed": false
   },
   "outputs": [],
   "source": [
    "def terminal_degap(seq, term_char='.', gap_char='-'):\n",
    "    new_seq = list(seq)\n",
    "    i = 0\n",
    "    while new_seq[i] == gap_char:\n",
    "        new_seq[i] = term_char\n",
    "        i += 1\n",
    "    i = -1\n",
    "    while new_seq[i] == gap_char:\n",
    "        new_seq[i] = term_char\n",
    "        i -= 1\n",
    "    return(''.join(new_seq))\n",
    "\n",
    "def terminal_degap_fasta_f(fasta_f):\n",
    "    fasta_records = parse_fasta(fasta_f)\n",
    "    \n",
    "    new_aln_seqs = []\n",
    "    \n",
    "    for label, seq in fasta_records:\n",
    "        seq = terminal_degap(seq)\n",
    "        new_aln_seqs += [DNASequence(seq,label)]\n",
    "    new_aln_fasta = fasta_from_sequences(new_aln_seqs)\n",
    "    return(StringIO(new_aln_fasta))\n"
   ]
  },
  {
   "cell_type": "code",
   "execution_count": 238,
   "metadata": {
    "collapsed": false
   },
   "outputs": [],
   "source": [
    "def renorm_dict(d, exclude):\n",
    "    b = set(d.keys()) - set(exclude)\n",
    "    e = {k: d[k] for k in b} \n",
    "    total = float(sum(e.values()))\n",
    "    f = {k: float(e[k])/total for k in e}\n",
    "    \n",
    "    return(f)"
   ]
  },
  {
   "cell_type": "code",
   "execution_count": 239,
   "metadata": {
    "collapsed": false
   },
   "outputs": [],
   "source": [
    "def iupac_sub(nucs):\n",
    "    IUPAC_lookup = {\n",
    "        'R': ['A', 'G'],\n",
    "        'Y': ['C', 'T'],\n",
    "        'S': ['G', 'C'],\n",
    "        'W': ['A', 'T'],\n",
    "        'K': ['G', 'T'],\n",
    "        'M': ['A', 'C'],\n",
    "        'B': ['C', 'G', 'T'],\n",
    "        'D': ['A', 'G', 'T'],\n",
    "        'H': ['A', 'C', 'T'],\n",
    "        'V': ['A', 'C', 'G'],\n",
    "        'N': ['A', 'C', 'G', 'T']\n",
    "    }\n",
    "    nucs = [x.upper() for x in nucs]\n",
    "    for key in IUPAC_lookup:\n",
    "        if set(nucs) == set(IUPAC_lookup[key]):\n",
    "            return(key)\n",
    "    \n",
    "    return('N')"
   ]
  },
  {
   "cell_type": "code",
   "execution_count": 240,
   "metadata": {
    "collapsed": false
   },
   "outputs": [],
   "source": [
    "def simple_consensus(aln, min_freq=0.5, ignore_gap_chars=['.'], degenerate=False):\n",
    "    pf = aln.position_frequencies()\n",
    "    consensus_seq = ['*']*aln.sequence_length()\n",
    "    consensus_freq = ['*']*aln.sequence_length()\n",
    "    i = 0\n",
    "    for pos in pf:\n",
    "        # renormalize freqs after getting rid of ignored (terminal) gaps\n",
    "        pf_i = renorm_dict(pos, ignore_gap_chars)\n",
    "        \n",
    "        # get max freq\n",
    "        max_freq = max(pf_i.values())\n",
    "        consensus_freq[i] = max_freq\n",
    "        \n",
    "        n_max = [key for key,val in pf_i.iteritems() if val == max_freq]\n",
    "        \n",
    "        if max_freq > min_freq and len(n_max) == 1:\n",
    "            consensus_seq[i] = n_max[0]\n",
    "        elif max_freq > min_freq and len(n_max) > 1 and degenerate:\n",
    "            consensus_seq[i] = iupac_sub[n_max]\n",
    "        elif degenerate:\n",
    "            consensus_seq[i] = iupac_sub[pf_i.keys()]\n",
    "        else:\n",
    "            consensus_seq[i] = 'N'\n",
    "        i += 1\n",
    "    \n",
    "    return(''.join(consensus_seq),consensus_freq)"
   ]
  },
  {
   "cell_type": "code",
   "execution_count": 241,
   "metadata": {
    "collapsed": true
   },
   "outputs": [],
   "source": [
    "def limit_records(seqs, n = 10, limit = 'longest'):\n",
    "    if limit == 'longest':\n",
    "        ids = seqs.ids()\n",
    "        lengths = seqs.sequence_lengths()\n",
    "        \n",
    "        sorted_ids = [x for (y,x) in sorted(zip(lengths,ids), key=lambda pair: pair[0], reverse=True)]\n",
    "        \n",
    "        ids_to_keep = sorted_ids[0:n]\n",
    "        \n",
    "    if limit == 'first':\n",
    "        ids = seqs.ids()\n",
    "        ids_to_keep = ids[0:n]\n",
    "    \n",
    "    limited_seqs = SequenceCollection([seqs[x] for x in ids_to_keep])\n",
    "    \n",
    "    return(limited_seqs)"
   ]
  },
  {
   "cell_type": "code",
   "execution_count": 264,
   "metadata": {
    "collapsed": false
   },
   "outputs": [],
   "source": [
    "def get_BOLD_consensus_seq(taxon, marker, max_seqs=40, limit='longest', BOLD_url = 'http://www.boldsystems.org/index.php/API_Public/sequence'):\n",
    "    # get sequences\n",
    "    try:\n",
    "        r = requests.get(BOLD_url, params={'taxon':taxon, 'marker':marker}, timeout=5)\n",
    "    except  requests.exceptions.Timeout as e:\n",
    "        print(e, 'Request timed out; does taxon exist?')\n",
    "        return(taxon, None, None)\n",
    "    except requests.exceptions.ConnectionError as e:\n",
    "        print(e, 'Request timed out; does taxon exist?')\n",
    "        return(taxon, None, None)      \n",
    "    seqs = SequenceCollection.from_fasta_records(parse_fasta(StringIO(r.text), label_to_name = lambda x: re.sub (' ', '_', x)),DNA)\n",
    "    \n",
    "    seqs = limit_records(seqs, n = max_seqs, limit = limit)\n",
    "    \n",
    "    # generate alignment\n",
    "    m_aln, m_err = muscle_align(seqs.to_fasta())\n",
    "    \n",
    "    # degap alignment\n",
    "    muscle_aln_degap_f = terminal_degap_fasta_f(StringIO(m_aln))\n",
    "\n",
    "    muscle_aln_degapped = Alignment.from_fasta_records(parse_fasta(muscle_aln_degap_f),DNA)\n",
    "\n",
    "    # make consensus sequences\n",
    "    consensus_seq, consensus_freq = simple_consensus(muscle_aln_degapped)\n",
    "    \n",
    "    # return fasta pair\n",
    "    return('{0} {1} consensus sequence retrieved from BOLD database'.format(re.sub(' ','_',taxon), marker),consensus_seq,seqs.to_fasta())\n"
   ]
  },
  {
   "cell_type": "code",
   "execution_count": 265,
   "metadata": {
    "collapsed": false
   },
   "outputs": [
    {
     "data": {
      "text/plain": [
       "{'Halictus Halictus_sp',\n",
       " 'Halictus crenicornis',\n",
       " 'Halictus fulvipes',\n",
       " 'Halictus maculatus',\n",
       " 'Halictus pollinosus',\n",
       " 'Halictus rubicundus',\n",
       " 'Halictus scabiosae',\n",
       " 'Halictus tumulorum',\n",
       " 'Lasioglossum albipes',\n",
       " 'Lasioglossum calceatum',\n",
       " 'Lasioglossum fulvicorne',\n",
       " 'Lasioglossum interruptum',\n",
       " 'Lasioglossum laevigatum',\n",
       " 'Lasioglossum laticeps',\n",
       " 'Lasioglossum lativentre',\n",
       " 'Lasioglossum leucozonium',\n",
       " 'Lasioglossum limbellum',\n",
       " 'Lasioglossum malachurum',\n",
       " 'Lasioglossum marginatum',\n",
       " 'Lasioglossum mediterraneum',\n",
       " 'Lasioglossum morio',\n",
       " 'Lasioglossum nigripes',\n",
       " 'Lasioglossum pauxillum',\n",
       " 'Lasioglossum villosulum',\n",
       " 'Lasioglossum zonulum',\n",
       " 'Sphecodes Sphecodes_sp',\n",
       " 'Sphecodes geoffrellus'}"
      ]
     },
     "execution_count": 265,
     "metadata": {},
     "output_type": "execute_result"
    }
   ],
   "source": [
    "species_list = ['Halictus crenicornis', 'Halictus fulvipes', 'Halictus fulvipes', 'Halictus maculatus', 'Halictus maculatus', 'Halictus maculatus', 'Halictus maculatus', 'Halictus maculatus', 'Halictus maculatus', 'Halictus maculatus', 'Halictus maculatus', 'Halictus maculatus', 'Halictus maculatus', 'Halictus maculatus', 'Halictus pollinosus', 'Halictus pollinosus', 'Halictus rubicundus', 'Halictus rubicundus', 'Halictus scabiosae', 'Halictus scabiosae', 'Halictus scabiosae', 'Halictus scabiosae', 'Halictus scabiosae', 'Halictus scabiosae', 'Halictus scabiosae', 'Halictus scabiosae', 'Halictus scabiosae', 'Halictus scabiosae', 'Halictus Halictus_sp', 'Halictus tumulorum', 'Halictus tumulorum', 'Halictus tumulorum', 'Halictus tumulorum', 'Halictus tumulorum', 'Lasioglossum albipes', 'Lasioglossum albipes', 'Lasioglossum albipes', 'Lasioglossum albipes', 'Lasioglossum albipes', 'Lasioglossum albipes', 'Lasioglossum albipes', 'Lasioglossum albipes', 'Lasioglossum albipes', 'Lasioglossum albipes', 'Lasioglossum albipes', 'Lasioglossum albipes', 'Lasioglossum albipes', 'Lasioglossum albipes', 'Lasioglossum albipes', 'Lasioglossum albipes', 'Lasioglossum albipes', 'Lasioglossum albipes', 'Lasioglossum albipes', 'Lasioglossum albipes', 'Lasioglossum albipes', 'Lasioglossum albipes', 'Lasioglossum albipes', 'Lasioglossum albipes', 'Lasioglossum albipes', 'Lasioglossum albipes', 'Lasioglossum albipes', 'Lasioglossum calceatum', 'Lasioglossum calceatum', 'Lasioglossum calceatum', 'Lasioglossum calceatum', 'Lasioglossum calceatum', 'Lasioglossum calceatum', 'Lasioglossum calceatum', 'Lasioglossum calceatum', 'Lasioglossum calceatum', 'Lasioglossum calceatum', 'Lasioglossum calceatum', 'Lasioglossum calceatum', 'Lasioglossum fulvicorne', 'Lasioglossum interruptum', 'Lasioglossum interruptum', 'Lasioglossum laevigatum', 'Lasioglossum laevigatum', 'Lasioglossum laticeps', 'Lasioglossum laticeps', 'Lasioglossum laticeps', 'Lasioglossum laticeps', 'Lasioglossum laticeps', 'Lasioglossum laticeps', 'Lasioglossum laticeps', 'Lasioglossum laticeps', 'Lasioglossum laticeps', 'Lasioglossum laticeps', 'Lasioglossum lativentre', 'Lasioglossum lativentre', 'Lasioglossum leucozonium', 'Lasioglossum leucozonium', 'Lasioglossum leucozonium', 'Lasioglossum leucozonium', 'Lasioglossum leucozonium', 'Lasioglossum leucozonium', 'Lasioglossum leucozonium', 'Lasioglossum leucozonium', 'Lasioglossum leucozonium', 'Lasioglossum leucozonium', 'Lasioglossum leucozonium', 'Lasioglossum leucozonium', 'Lasioglossum leucozonium', 'Lasioglossum leucozonium', 'Lasioglossum leucozonium', 'Lasioglossum leucozonium', 'Lasioglossum limbellum', 'Lasioglossum limbellum', 'Lasioglossum limbellum', 'Lasioglossum malachurum', 'Lasioglossum malachurum', 'Lasioglossum malachurum', 'Lasioglossum malachurum', 'Lasioglossum malachurum', 'Lasioglossum malachurum', 'Lasioglossum malachurum', 'Lasioglossum malachurum', 'Lasioglossum malachurum', 'Lasioglossum malachurum', 'Lasioglossum malachurum', 'Lasioglossum malachurum', 'Lasioglossum malachurum', 'Lasioglossum malachurum', 'Lasioglossum malachurum', 'Lasioglossum malachurum', 'Lasioglossum malachurum', 'Lasioglossum malachurum', 'Lasioglossum malachurum', 'Lasioglossum malachurum', 'Lasioglossum malachurum', 'Lasioglossum marginatum', 'Lasioglossum mediterraneum', 'Lasioglossum morio', 'Lasioglossum morio', 'Lasioglossum nigripes', 'Lasioglossum nigripes', 'Lasioglossum nigripes', 'Lasioglossum nigripes', 'Lasioglossum nigripes', 'Lasioglossum nigripes', 'Lasioglossum nigripes', 'Lasioglossum nigripes', 'Lasioglossum nigripes', 'Lasioglossum nigripes', 'Lasioglossum pauxillum', 'Lasioglossum pauxillum', 'Lasioglossum pauxillum', 'Lasioglossum pauxillum', 'Lasioglossum pauxillum', 'Lasioglossum pauxillum', 'Lasioglossum pauxillum', 'Lasioglossum pauxillum', 'Lasioglossum pauxillum', 'Lasioglossum pauxillum', 'Lasioglossum villosulum', 'Lasioglossum villosulum', 'Lasioglossum villosulum', 'Lasioglossum villosulum', 'Lasioglossum villosulum', 'Lasioglossum villosulum', 'Lasioglossum zonulum', 'Sphecodes geoffrellus', 'Sphecodes Sphecodes_sp', 'Sphecodes Sphecodes_sp', 'Sphecodes Sphecodes_sp', 'Sphecodes Sphecodes_sp', 'Sphecodes Sphecodes_sp']\n",
    "\n",
    "species = set(species_list)\n",
    "\n",
    "species"
   ]
  },
  {
   "cell_type": "code",
   "execution_count": 266,
   "metadata": {
    "collapsed": false
   },
   "outputs": [
    {
     "name": "stdout",
     "output_type": "stream",
     "text": [
      "Lasioglossum zonulum\n",
      "Sphecodes Sphecodes_sp\n",
      "(ConnectionError(ReadTimeoutError(\"HTTPConnectionPool(host='www.boldsystems.org', port=80): Read timed out.\",),), 'Request timed out; does taxon exist?')\n",
      "Halictus scabiosae\n",
      "Lasioglossum fulvicorne\n",
      "Sphecodes geoffrellus\n",
      "Lasioglossum villosulum\n",
      "Lasioglossum albipes\n",
      "Lasioglossum pauxillum\n",
      "Halictus crenicornis\n",
      "Halictus fulvipes\n",
      "Lasioglossum lativentre\n",
      "Lasioglossum malachurum\n",
      "Lasioglossum interruptum\n",
      "Lasioglossum laevigatum\n",
      "Halictus tumulorum\n",
      "Halictus Halictus_sp\n",
      "(ConnectionError(ReadTimeoutError(\"HTTPConnectionPool(host='www.boldsystems.org', port=80): Read timed out.\",),), 'Request timed out; does taxon exist?')\n",
      "Lasioglossum calceatum\n",
      "Lasioglossum mediterraneum\n",
      "Lasioglossum morio\n",
      "Halictus maculatus\n",
      "Halictus pollinosus\n",
      "Halictus rubicundus\n",
      "Lasioglossum leucozonium\n",
      "Lasioglossum limbellum\n",
      "Lasioglossum marginatum\n",
      "Lasioglossum nigripes\n",
      "Lasioglossum laticeps\n"
     ]
    }
   ],
   "source": [
    "marker = 'COI-5P'\n",
    "headers = []\n",
    "seqs = []\n",
    "\n",
    "for taxon in species:\n",
    "    print(taxon)\n",
    "    header, seq, fastas = get_BOLD_consensus_seq(taxon, marker)\n",
    "    \n",
    "    if seq is None:\n",
    "        continue\n",
    "    \n",
    "    headers += [header]\n",
    "    seqs += [seq]\n",
    "    \n",
    "    with open('{0}.{1}.fasta'.format(re.sub (' ', '_', taxon),marker),'w') as f:\n",
    "        f.write(fastas)\n"
   ]
  },
  {
   "cell_type": "code",
   "execution_count": 268,
   "metadata": {
    "collapsed": false
   },
   "outputs": [],
   "source": [
    "pairs = zip(headers, seqs)\n",
    "\n",
    "conseqs = SequenceCollection([DNASequence(seq,label) for (label, seq) in pairs])\n"
   ]
  },
  {
   "cell_type": "code",
   "execution_count": 274,
   "metadata": {
    "collapsed": false
   },
   "outputs": [
    {
     "data": {
      "text/plain": [
       "('>Sphecodes_geoffrellus COI-5P consensus sequence retrieved from BOLD database\\n--TATATTATACTTTATTTTTGCTATATGATCAGGAATAATCGGAGCATCATTAAGAATA\\nATTATTCGAATAGAATTGAGTATCCCCGGGAATTGAATTAATAATGATCAAATTTATAAC\\nACTTTAATTACATCACACGCTTTTATTATAATTTTTTTTATGGTTATACCTTTTATAATT\\nGGGGGATTTGGAAATTGACTTGTACCATTAATAATTGGAGCNCCAGATATAGCTTTCCCC\\nCGTATAAATAATATAAGATTTTGATTATTATCTCCTTCCTTAATTATACTTTTATTAAGC\\nAATTTAACAGAATCAGGAACAGGAACAGGATGAACTATTTATCCACCTCTCTCATCAATT\\nATATATCACTCTTCTTCATCTGTAGATTTTACTATTTTTTCACTTCATATAGCAGGTATT\\nTCATCTATTATAGGAGCTATTAACTTTATTGTTTCCATTCTTTTAATAAAAAATATTTCT\\nATTAAATTAGATCAAATTCCATTATTCCCCTGATCTGTAAAAATTACAGCTATTTTACTT\\nTTATTATCTTTACCAATCTTAGCAGGAGCAATTACNATATTATTAACTGACCGAAATTTA\\nAATACTTCATTTTTTGATCCTTCNGGAGGGGGAGACCCAATTTTATATCAACATTTATTT\\nTGATTTTTTGGACACCCTNNNNNNNNNNNNNNNNNNNNNNNNNNRTTTGGATTAATTTCW\\nCATATYATTTTTAATGAAAGAGGWAAAAAAGAAATTTTTGGRAANTTAGGAATAATTTAT\\nGCTATANTAGGWATTGGWTTCYWAGRATTTATTGTYTGAGCTCATCAYATATTTACTGTA\\nRGATTAKATGTTGATAYTCGRGCTTATTTTACTTCTGCWACYATAATTATTGCWGTCCCA\\nACAGGAATTAARGTATTTAGATGAYTAGCTACATAYTGTGGNTCAAAAATTTATATAAMC\\nCCTTCTATTATWTRATCTTTTGGATTTATTTTTTTATTYACWATAGGAGGATTAACTGGA\\nATYATAYTATCTAATTCTTCWATTGATATTATATTACATGATAYATATTATGTAATTGGY\\nCATTTTCAYTAT------------------------------------------------\\n------------------------------------------------------------\\n------------------------------------------------------------\\n------------------------------------------------------------\\n------------------------------------------------------------\\n------------------------------------------------------------\\n--------------------------------------\\n>Lasioglossum_laevigatum COI-5P consensus sequence retrieved from BOLD database\\n----------------------------------------------------------TA\\nATTATTCGAATAGAATTAAGTGCCCCAGGAAGATGAATTAATAACGATCAAATTTATAAT\\nACTATTATTACATCACACGCTTTTATTATAATTTTTTTTATAGTTATGCCATTTATAATT\\nGGAGGATTTGGAAACTGATTAGTACCTTTAATAATTGGTGCTCCTGATATAGCTTTTCCC\\nCGAATAAATAATATAAGATTTTGATTACTTACCCCTTCTCTACTTATATTATTAATAAGA\\nAGTTTAATTTCTACTGGATCAGGAACAGGATGAACAATTTACCCTCCTTTATCATCTATT\\nATATATCACTCAACTAATTCTGTAGATTTTACAATTTTCTCATTACATATTGCAGGAATC\\nTCATCAATTATAGGAGCTATTAATTTTATTGTTTCAATTTTATTAATAAAAAATATTTCA\\nATTAATTTCGACCAAGTACCTCTATTCCCCTGATCTGTTAAAATCACAGCTATTTTACTA\\nCTACTATCATTACCCGTACTTGCCGGAGCTATCACTATACTTCTTACTGATCGTAATATA\\nAATACTTCATTTTTTGACCCATCCGGAGGAGGAGACCCTATTTTATATCAACATTTATTT\\nTGATTTTTTGGACATCCAGAAGTTTATATTTTAATTTTACCTGGATTTGGATTAATTTCA\\nCATATCATTTTCAATGAAAGAGGAAAAAAAGAAATTTTTGGAAACTTAGGAATAATTTAC\\nGCTATACTAGGTATTGGATTTTTAGGATTCATTGTATGAGCTCATCATATATTTACTGTT\\nGGCTTAGACGTAGATACTCGAG--------------------------------------\\n------------------------------------------------------------\\n------------------------------------------------------------\\n------------------------------------------------------------\\n------------------------------------------------------------\\n------------------------------------------------------------\\n------------------------------------------------------------\\n------------------------------------------------------------\\n------------------------------------------------------------\\n------------------------------------------------------------\\n--------------------------------------\\n>Lasioglossum_lativentre COI-5P consensus sequence retrieved from BOLD database\\n--AATATTATATTTTATATTTGCTATATGAGCAGGCATAATCGGAGCTTCTTTAAGAATA\\nATTATTCGTATAGAATTAATAGCCCCTGGAATATGAATTAATAATGACCAAATTTATAAT\\nACAATTATTACATCTCATGCATTCGTCATAATTTTTTTTATAATTATACCATTTATAATT\\nGGAGGATTTGGAAATTGATTAGTACCTCTAATAATTGGGGCACCTGATATAGCATTCCCT\\nCGAATAAATAATGTAAGATTTTGATTATTAATCCCTGCATTATCTAGGCTTCTATCAAGA\\nAGAATCTACTCCACTGGAACTGGAACTGGATGAACAGTATACCCTCCTTTATCTTCTATT\\nATATTTCATTCATCTAATTCTGTAGATTTTACAATTTTCTCTCTTCATATTGCTGGAATT\\nTCATCAATTATAGGTGCTATCAATTTTATTGTATCAATTATATTAATAAAAAATATTTCA\\nCTTAATTTTGATCAAATCCCTTTATTTCCATGATCCGTTAGAATTACTGCTATTTTATTA\\nTTATTATCTTTACCTGTTTTAGCAGGAGCTATTACTATACTTCTAACAGATCGAAATTTA\\nAATACTTCATTTTTTGACCCTTCAGGAGGTGGAGACCCTATTCTTTATCAACATTTATTC\\nTGATTTTTTGGTCATCCTGAAGTTTATATTTTAATCCTACCTGGATTTGGCTTAATTTCA\\nCATATTATTTTTAATGAAAGAGGAAAAAAAGAAATTTTTGGAAATTTAGGAATAATCTAT\\nGCAATACTAGGAATTGGATTTTTAGGATTTATTGTATGAGCACATCATATATTCACAGTT\\nGGTCTAGATGTTGACACTCGAG--------------------------------------\\n------------------------------------------------------------\\n------------------------------------------------------------\\n------------------------------------------------------------\\n------------------------------------------------------------\\n------------------------------------------------------------\\n------------------------------------------------------------\\n------------------------------------------------------------\\n------------------------------------------------------------\\n------------------------------------------------------------\\n--------------------------------------\\n>Lasioglossum_leucozonium COI-5P consensus sequence retrieved from BOLD database\\n---ATACTATATTTTATCTTCGCAATATGATCAGGAATAATTGGAGCTTCATTAAGTATA\\nATCATTCGTATAGAATTAAGAGCCCCCGGAAAATGAATTAATAATGATCAAATTTATAAC\\nACTATTGTTACATCCCACGCTTTCATTATAATCTTTTTTATAGTTATACCATTTATAATT\\nGGAGGATTTGGTAACTGATTAATTCCACTAATAATTGGAGCCCCTGATATGGCATTCCCT\\nCGAATAAATAATATAAGATTCTGATTATTAATCCCATCACTTATTATACTTCTATTAAGA\\nTCAACTTTAACAGATGGATCAGGGACAGGATGAACTATCTACCCTCCTCTATCATCAATT\\nATATACCATTCCTCTAATTCTGTTGACTTCACAATTTTTTCTTTACATATTGCAGGAATA\\nTCCTCAATTATAGGAGCCATCAATTTTATTGTTTCTATTTTATTAATAAAAAATATCTCT\\nATTAAATTTGATCAAATTCCTTTATTTCCATGATCAGTAAAAATTACTGCTATTCTATTA\\nTTACTTTCTCTACCTGTTTTAGCAGGAGCTATTACAATATTATTAACAGATCGAAATTTA\\nAATACTTCATTTTTTGACCCTTCAGGTGGAGGGGACCCAATTTTATACCAACATCTTTTT\\nTGATTTTTTGGGCACCCAGAAGTATATATCTTAATTTTACCAGGATTTGGATTAATCTCA\\nCATATTATTTTTAATGAAAGTGGGAAAAAAGAAATTTTTGGTAACTTAGGAATAATTTAT\\nGCAATATTAGGAATTGGATTTTTAGGATTTATTGTATGAGCACATCATATATTTACTGTT\\nGGGTTAGATGTTGATACTCGAG--------------------------------------\\n------------------------------------------------------------\\n------------------------------------------------------------\\n------------------------------------------------------------\\n------------------------------------------------------------\\n------------------------------------------------------------\\n------------------------------------------------------------\\n------------------------------------------------------------\\n------------------------------------------------------------\\n------------------------------------------------------------\\n--------------------------------------\\n>Lasioglossum_zonulum COI-5P consensus sequence retrieved from BOLD database\\nGGTATATTATATTTTATTTTTGCTATATGATCAGGAATAATTGGAGCTTCAATAAGAATA\\nATTATTCGAATAGAATTAAGAGCTCCAGGAAAATGAATTAATAATGATCAAATTTACAAT\\nACTATTGTCACATCCCATGCTTTTATTATAATTTTTTTTATAGTTATACCATTTATAATT\\nGGAGGATTTGGAAACTGATTAGTACCATTAATAATTGGAGCTCCAGATATAGCATTCCCA\\nCGAATAAATAATATAAGATTCTGATTATTAATTCCATCTCTTATTATATTACTTTTAAGA\\nTCAATTCTAACAGATGGATCAGGAACAGGATGAACAATTTACCCCCCACTATCATCAATT\\nATATTCCACTCCTCTAATTCTGTAGATTTTACTATCTTCTCCTTACATATTGCAGGTATA\\nTCCTCTATTATAGGAGCCATCAATTTTATTGTATCTATTATATTAATAAAAAATATTTCT\\nATTAAATTTGATCAAATTCCATTATTCCCTTGATCTGTAAAAATTACAGCTATCTTATTA\\nCTATTATCCTTACCAGTTTTAGCAGGAGCAATTACAATACTTCTTACAGATCGTAATTTA\\nAACACTTCATTTTTTGACCCTTCTGGAGGTGGAGACCCAATCTTATATCAACATTTATTT\\nTGATTTTTTGGTCATCCAGAAGTATATATTTTAATTTTACCAGGATTTGGATTAATTTCT\\nCATATTATTTTCAATGAAAGAGGAAAAAAAGAAATTTTTGGTAATTTAGGAATAATTTAT\\nGCAATATTAGGAATTGGATTTTTAGGATTTATTGTATGGGCTCATCATATATTTACAGTT\\nGGATTAGATGTAGATACCCGAGCATACTTTACTTCAGCTACTATAATTATTGCCGTACCT\\nACAGGAATTAAAGTTTTTAGATGATTAGCTACTTATTGTGGTTCAAAAATTTATTTAACT\\nCCTTCTATTATTTGATCATTAGGATTCATCTTTTTATTTACAATAGGAGGATTAACCGGA\\nATTATATTATCAAATTCTTCAATTGATATTATATTACATGATACTTATTATGTAATTGGA\\nCATTTCCATTATGTTTTATCTATAGGAGCAGTATTTGCTATTATTGCAAGATTAATTCAT\\nTGATTTCCTATTTTTACTGGATTTACATTAAATAAAAAATTATTAAATATTCAATTCATT\\nATAATATTTACAGGAGTAAATTTAACATTTTTCCCCCCACATTTTTTAGGCTTAATAGGA\\nATACCTCGACGATACTCAGATTATCCAGATGCTTATTATTGCTGAAATATCATTTCATCC\\nATTGGATCACTAATCTCTTTTAATAGAATAATCTTATTAATTTATACAATTTTAGAAAGA\\nTTAATTTCTAAACGTTTAATTTTATTTAAATATTCACAATCATCTTTAGAATGATTACAA\\nAACTTCCCCCCTATTTCCCACTCATATAATGAATTACC\\n>Halictus_tumulorum COI-5P consensus sequence retrieved from BOLD database\\n--CATACTTTATTTTATTTTCGCCATATGATCAGGAATAATTGGAGCTTCATTAAGAATA\\nATTATTCGTATAGAATTAAGAACCCCAGGAAGATGAATTAATAACGATCAAATCTATAAC\\nACTATCATCACATCTCATGCTTTTATTATAATTTTTTTTATAGTTATACCATTTATAATT\\nGGGGGATTTGGAAATTGATTAGTACCTTTAATAATTGGAGCCCCTGATATAGCATTCCCA\\nCGAATAAATAATATAAGATTTTGATTACTTATTCCTTCCTTATTTATACTCTTAATAAGA\\nAGAACTATATCAACGGGGTCAGGGACTGGATGAACTATTTACCCCCCCCTATCATCAATT\\nATATACCATTCAACTTCTTCCGTAGATTTTACTATTTTTTCACTCCATATAGCAGGAATT\\nTCTTCAATTATAGGAGCTATTAATTTTATTGTTTCAATCATATTAATAAAAAATATTTCA\\nCTTAAAATAAATCAAATCCCTTTATTCCCATGATCAGTAAAAATTACCGCTATTTTACTA\\nCTCTTATCCTTACCTATCTTAGCTGGAGCGATTACTATATTACTAACTGATCGAAATATA\\nAATACATCTTTCTTTGACCCTTCTGGGGGAGGAGACCCAATTCTATACCAACATTTATTT\\nTGATTTTTTGGTCACCCAGAAGTTTATATTTTAATCCTCCCTGGATTTGGATTAATCTCT\\nCATATTATTTTTAATGAAAGAGGAAAAAAAGAAGTTTTTGGAAATTTAGGAATAATTTAT\\nGCTATATTAGGTATTGGATTCCTAGGATTTATTGTATGAGCTCATCATATATTTACAGTT\\nGGATTAGATGTTGACACTCGAGCTTACTTTACATCTGCTACCATAATTATTGCAGTACCA\\nACAGGAATTAAAATTTTTAGTTGACTTGCCACTTACTGTGGTTCAAAAATCAAAATAAAT\\nCCTTCTATCACTTGATCACTAGGATTTATTTTTCTATTTACAATAGGAGGTCTTACAGGA\\nATTATATTATCCAACTCTTCTATTGATATTATACTTCATGATACTTATTATGTTATTGGA\\nCATTTTCATTACGTATTATCAATAGGAGCTGTATTTTCAATTATTGCTAGCTTAATTCAT\\nTGATACCCCCTTTTTACTGGTTTAACTTTAAATAAAAAATTATTAAATATTCAGTTTACA\\nATAATATTTACTGGTGTAAATTTAACATTTTTCCCCCAACATTTTTTAGGCCTAATAGGC\\nATACCACGACGATACTCAGATTACCCAGATGCATATTATTGTTGAAATTTAATTTCTTCT\\nATTGGCTCATTAATTGCATTTAATAGAATAATTTTTCTAATCTTTATTATATTAGAAAGA\\nTTAATTATAAAACGTTTAATTATTTTTAAATATTTTCAATCTTCTTTAGAATGAATACAA\\nAATTACCCACCTTTAAGACATTCATATAATGAAACTCC\\n>Halictus_rubicundus COI-5P consensus sequence retrieved from BOLD database\\n------------------------------------------------------------\\n------------------------------------------------------------\\n------------------------------------------------------------\\n------------------------------------------------------------\\nCGTATAAATAATATAAGATTTTGATTATTAATTCCTTCATTATTTATACTTATAATAAGA\\nAGAACTTTATCTACAGGATCAGGAACAGGATGAACTATTTACCCTCCCCTATCTTCAATT\\nATATATCACTCATCTTTTTCTGTTGATTTTACTATTTTTTCTTTACATATCGCAGGTATT\\nTCTTCTATTATAGGTGCTATTAATTTTATTGTTTCAATTATATTAATAAAAAATATTTCA\\nCTTAATATAAATCAAATCCCCTTATTTCCTTGATCAGTTAAAATTACTGCTATTTTACTT\\nCTTCTTTCTCTCCCTGTTTTAGCAGGTGCTATTACTATACTATTAACAGACCGAAATTTA\\nAATACATCTTTTTTTGACCCTTCTGGAGGAGGAGACCCTATTCTTTACCAACATTTATTC\\nTGATTTTTTGGTCATCCTGAAGTTTATATTTTAATTCTCCCCGGNTTTGGATTAATTTCA\\nCATATTATTTTTAACGAAAGAGGAAAAAAAGAAATTTTCGGAAATTTAGGAATAATTTAT\\nGCTATATTAGGAATTGGATTTTTAGGATTTATTGTATGAGCTCATCACATATTTACTGTA\\nGGATTAGATGTTGATACACGAG--------------------------------------\\n------------------------------------------------------------\\n------------------------------------------------------------\\n------------------------------------------------------------\\n------------------------------------------------------------\\n------------------------------------------------------------\\n------------------------------------------------------------\\n------------------------------------------------------------\\n------------------------------------------------------------\\n------------------------------------------------------------\\n--------------------------------------\\n>Halictus_pollinosus COI-5P consensus sequence retrieved from BOLD database\\n--AATACTTTATTTTATTTTTGCAATATGATCTGGAATAATTGGAGCATCATTAAGAATA\\nATTATTCGTATAGAATTAAGAATTCCAGGAAGATGAATTAACAATGATCAAATTTATAAT\\nACAATTGTTACCTCACATGCTTTTGTAATAATTTTTTTTATAGTTATACCATTTATAATT\\nGGAGGATTTGGAAACTGATTAGTCCCCTTAATAATTGGTGCTCCTGATATAGCATTTCCA\\nCGAATAAATAATATAAGATTTTGATTATTAATCCCCTCCTTATTTATACTTTTAATAAGA\\nAGAATTATTTCAACAGGATCAGGTACAGGATGAACAATCTACCCCCCACTATCCTCAATT\\nATATATCATTCATCCTCTTCTGTAGATTTTACTATCTTTTCTTTACATATTGCAGGAATT\\nTCTTCAATTATAGGAGCTATCAATTTTATTGTTTCAATTATCTTAATAAAAAATATCTCC\\nCTTAAAATAAATCAAGTACCTTTATTTCCATGATCAGTAAAAATTACTGCTATTTTACTA\\nCTTTTATCTTTACCCGTTCTTGCAGGAGCTATTACTATATTATTAACTGACCGAAATTTA\\nAATACATCATTTTTTGACCCTTCAGGGGGAGGAGACCCTATTTTATATCAACATTTATTT\\nTGATTTTTTGGACATCCAGAAGTTTATATTCTTATCCTTCCCGGATTTGGTCTAATTTCT\\nCATATTATTTTTAATGAAAGTGGAAAAAAAGAAATTTTTGGGAATCTTGGAATAATTTAT\\nGCTATATTAGGTATTGGATTTCTAGGATTTATTGTATGAGCCCATCATATATTTACAGTT\\nGGATTAGATGTTGATACTCGAGCATATTTCACATCAGCTACTATAATCATTGCTGTACCA\\nACAGGAATTAAAGTATTCAGATGATTAGCAACTTATTGTGGATCAAAAATTAAGATAAAT\\nCCATCCATTATTTGATCTTTAGGTTTTATCTTTTTATTTACAATAGGAGGACTAACAGGA\\nATTATATTATCTAATTCTTCCATTGATATTATACTTCATGATACATACTATGTTATTGGT\\nCATTTTCATTATGTTCTATCTATAGGAGCTGTATTTTCAATTATTGCTAGTTTAATTCAT\\nTGATATCCTATTTTTACAGGATTAACATTAAATAAAAAACTATTAAATATTCAATTTATA\\nATAATATTTACTGGAGTAAATTTAACATTTTTTCCTCAACATTTTTTAGGTTTAATAGGT\\nATGCCTCGTCGATATTCAGATTATCCTGATGCATACTATTGTTGAAATTTAATTTCTTCT\\nATTGGATCATTAATTTCTTTTAATAGAATAATTTTAATAATTTTTATTATTCTAGAAAGA\\nTTAATTATAAAACGCTTAATTATTTTTAAATATTTCCAATCATCATTAGAATGATTACAA\\nAATTACCCACCTATTAGACATTCTTATAATGAAATTCC\\n>Halictus_crenicornis COI-5P consensus sequence retrieved from BOLD database\\n------------------------------------------------------------\\n------------------------------------------------------------\\n------------------------------------------------------------\\n-----------------------------------------------------------A\\nCGTATAAATAATATAAGATTTTGATTATTAATTCCATCTTTATTCATACTTATCATAAGA\\nAGAACTCTATCTACTGGATCAGGTACAGGTTGAACTATTTATCCACCACTATCATCAATT\\nACNTATCATTCATCTTTCTCTGTAGATTTTACTATTTTTTCTTTACATATTGCAGGAATT\\nTCTTCAATTATAGGAGCTATCAATTTTATCGTCTCAATTATCTTAATAAAAAATATTTCA\\nCTTAATTTAAACCAAATTCCTTTATTTCCTTGATCAGTTAAAATTACTGCAATTTTATTA\\nCTTTTATCTCTACCCGTTTTAGCAGGAGCTATCACTATATTATTAACTGATCGGAACTTA\\nAATACTTCTTTTTTTGATCCATCAGGAGGAGGTGACCCTATTTTATACCAACATTTATTT\\nTGATTTTTTGGACACCCAGAAGTTTATATTTTAATTTTACCAGGATTCGGATTAATTTCT\\nCATATTATTTTCAATGAAAGAGGAAAAAAAGAAATTTTTGGAAACCTAGGAATAATTTAT\\nGCAATATTAGGAATTGGATTTTTAGGTTTTATTGTATGAGCTCATCACATATTCACAGTT\\nGGTTTAGATGTTGATACACGAGCATACTTTACATCTGCAACAATAATTATTGCTGTTCCA\\nACAGGAATCAAAGTATTTAGATGACTCGCAACTTATTGCGGATCAAAAATCAAATTAAAC\\nCCATCAATCATTTGATCTTTAGGATTTATTTTCTTATTTACCTTAGGAGGATTAACTGGT\\nATTATATTATCTAATTCTTCTATCGATATTATACTTCATGATACATATTATGTAATTGGT\\nCATTTTCATTACGTTCTATCTATAGGAGCAGTATTTGCAATTATTGCAAGATTAATTCAT\\nTGATACCCTCTTTTCACTGGATTAACACTTAATAAAAAATTATTAAATATACAATTTATT\\nATAATATTTTTAGGTGTAAATCTAACTTTCTTCCCCCAACATTTTTTAGGCTTAATAGGA\\nATACCTCGACGATACTCAGACTACCCAGATGCCTACTATTGTTGAAATCTAATTTCTTCT\\nGTAGGATCTTTAATTGCTTTTAATAGAATAATTTTTTTAATTTTTATTATCTTAGAAAGA\\nTTTATTATAAAACGACTAATTATATTTAAATATTTTCAATCATCATTAGAATGACTACAA\\nAACTACCCTCCTCTAAGACATTCATACAATGAATTACC\\n>Halictus_maculatus COI-5P consensus sequence retrieved from BOLD database\\n--AATACTTTATTTTATTTTCGCTATATGATCAGGAATAATTGGAGCATCTTTAAGAATA\\nATTATTCGTATAGAATTAAGAATTCCAGGAAGATGAATTAACAATGATCAAATTTATAAT\\nACTATTATTACTTCTCATGCTTTTATTATAATTTTTTTCATAGTTATACCATTCATAATT\\nGGGGGATTTGGGAACTGATTAGTACCATTAATAATTGGAGCCCCAGATATAGCATTCCCA\\nCGAATAAATAATATAAGATTTTGACTTTTAATCCCATCCTTATTTATACTTATTATAAGA\\nAGAACTTTATCAACAGGATCAGGTACAGGTTGAACCATTTATCCCCCATTATCATCAATT\\nATATATCACTCATCATCTTCTATTGATTTCACTATTTTTTCCTTACATATCGCAGGAATT\\nTCTTCAATTATAGGAGCTATTAATTTCATTGTATCAATTATATTAATAAAAAATATCTCT\\nCTTAATTTAAATCAAATTCCTTTATTTCCTTGATCTGTTAAAATTACTGCAATTTTATTA\\nCTTTTATCATTACCTGTTTTAGCCGGAGCTATTACTATATTATTAACTGATCGTAATTTA\\nAATACTTCCTTTTTTGATCCTTCTGGGGGAGGAGACCCTATCTTATATCAACACTTATTT\\nTGATTTTTTGGACATCCAGAAGTTTATATTTTAATTTTACCTGGATTTGGTTTAATCTCT\\nCACATTATCTTTAATGAAAGAGGAAAAAAAGAAATTTTTGGAAATCTAGGAATAATTTAT\\nGCAATATTAGGTATTGGATTTTTAGGATTCATTGTATGAGCTCATCATATATTTACAGTA\\nGGTCTAGATGTTGATACACGAGCATATTTTACATCTGCAACAATAATTATTGCAGTACCG\\nACTGGAATTAAAGTATTTAGATGACTAGCAACTTATTGTGGATCAAAAATTAATTTAAAT\\nCCCTCAATTATTTGATCACTAGGATTTATTTTTTTATTTACTTTAGGGGGATTAACTGGC\\nATTATATTATCAAATTCTTCCATTGATATTATACTTCATGATACATACTATGTAATTGGC\\nCACTTTCATTATGTTTTATCTATAGGAGCAGTATTTGCAATTATTGCAAGCTTAATTCAT\\nTGATATCCTCTTTTTACTGGATTAACTTTAAATAAAAAATTATTAAATATTCAATTCATT\\nATAATATTTTTAGGAGTAAATTTAACTTTTTTCCCCCAACATTTCTTAGGTTTAATAGGA\\nATACCCCGACGATACTCAGATTACCCTGATGCTTACTATTGTTGAAATTTAATTTCCTCA\\nATTGGATCTTTAATTTCATTCAATAGAATAATCTTTTTAATTTTTATTATTCTAGAAAGA\\nTTTATTATAAAACGATTAATTATATTTAAATATTTTCAATCTTCTTTAGAATGATTACAA\\nAACTTCCCTCCTTTAAGACACTCATATAACGAATTACC\\n>Halictus_scabiosae COI-5P consensus sequence retrieved from BOLD database\\n--TATACTATATTTTATATTTGCTATATGATCGGGAATAGTTGGAGCTTCTTTAAGTATA\\nATTATTCGTTTAGAATTAAGTGCTCCAGGAAGATGAATTAATAATGATCAAATTTATAAT\\nACTATTGTAACTTCTCATGCTTTTGTTATAATTTTTTTTATAGTTATACCATTTATAATT\\nGGAGGATTCGGAAATTGACTAGTACCATTAATAATTGGAGCCCCTGATATAGCATTTCCA\\nCGAATAAATAATATAAGATTTTGACTATTAATACCATCTTTATTTATACTTATTATAAGA\\nGTAACTTTATCAACAGGTTCAGGAACAGGTTGAACTATATATCCTCCTTTATCATCAATT\\nATATATCACTCATCCTATGCTATAGATTTTACTATTTTTTCTCTACATATTGCAGGAATT\\nTCTTCAATTATAGGAGCTATTAATTTTATTGTTTCAATTTTATTAATGAAAAATATTTCA\\nCTTAATTTAAATCAAATTCCTTTATTCCCATGATCAGTTAAAATTACTGCAATTTTATTA\\nCTATTATCTTTACCTGTCTTAGCAGGAGCTATCACTATATTATTAACTGACCGAAATTTA\\nAATACTTCCTTTTTTGACCCCTCAGGAGGAGGAGATCCTATTTTATATCAACATTTATTT\\nTGATTCTTTGGCCACCCAGAAGTTTATATTTTAATTTTACCAGGATTTGGTTTAATTTCA\\nCATATTATTTTTAACGAAAGAGGAAAAAAAGAAATTTTTGGAAATTTGGGAATAATTTAT\\nGCAATATTAGGAATTGGATTTTTAGGTTTTATTGTATGAGCTCATCATATATTTACAGTA\\nGGATTAGATGTAGATACTCGAGCATATTTTACATCCGCAACAATAATTATTGCTGTACCA\\nACAGGTATTAAAGTATTTAGNTGACTTGCAACTTATTGTGGATCAAAAATTAAATTAAAT\\nCCATCAATTATTTGATCATTAGGTTTTATTTTTTTATTTACTTTAGGAGGATTAACAGGT\\nATTATATTATCAAATTCTTCAATTGACATTATACTTCATGATACATATTATGTAATTGGA\\nCACTTTCATTATGTTTTATCCATAGGAGCAGTATTTGCAATTATTGCAAGNTTAATTCAT\\nTGATATCCTTTATTCACCGGATTAACTTTAAATAAAAAATTATTAAATATTCAATTTATT\\nATAATATTTTCAGGAGTAAATTTAACTTTTTTNCCCCAACATTTTTTAGGATTAATAGGA\\nATACCTCGACGATATTCTGACTACCCAGATGCATATTATTGTTGAAATTTAATATCCTCA\\nATTGGATCAATAATTGCTTTTCATAGATTAATTTTATTAGTTTTCATTTTATTAGAAAGA\\nTTAATTATAAAACGATTTATTTTATTTAAATTTTTCCAATCATCATTAGAATGATTACAA\\nAATTATCCTCCTTTAAGACATTCATATAATGAATTACC\\n>Halictus_fulvipes COI-5P consensus sequence retrieved from BOLD database\\n------------------------------------------------------------\\n------------------------------------------------------------\\n------------------------------------------------------------\\n-----------------------------------------------------------A\\nCGAATAAATAATATAAGATTTTGATTACTAATACCATCTTTATTTATACTTATTATAAGA\\nGTAACTTTATCAACAGGTTCAGGAACAGGTTGAACTATATATCCCCCTTTATCATCAATT\\nATATATCATTCATCATATTCAATAGACTTTACTATTTTCTCTCTTCATATTGCAGGAATC\\nTCTTCCATTATAGGAGCTATTAATTTTATTGTATCAATTTTATTAATAAAAAATATTTCA\\nCTTAATATAAATCAAATTCCTCTATTTCCTTGATCAGTTAAAATTACTGCAATTCTTCTA\\nCTCTTATCTTTACCTGTTTTAGCAGGAGCTATCACAATATTATTAACAGACCGAAATTTA\\nAATACTTCCTTTTTTGACCCTTCAGGAGGAGGAGACCCTATTCTATACCAACATTTATTT\\nTGATTTTTTGGACATCCAGAAGTTTATATTTTAATCCTACCAGGATTTGGTTTAATTTCA\\nCATATTATTTTCAATGAAAGAGGAAAAAAAGAAATTTTTGGAAATTTAGGAATAATTTAC\\nGCAATATTAGGAATTGGATTTTTAGGTTTTATTGTATGAGCTCATCATATATTTACAGTA\\nGGATTAGATGTAGATACTCGTGCATATTTCACATCAGCAACAATAATTATTGCTGTACCA\\nACAGGTATTAAAGTATTTAGATGACTTGCAACTTATTGTGGATCAAAAATTAAATTAAAT\\nCCATCAATTATTTGATCATTAGGTTTTATCTTTCTATTTACTTTAGGAGGATTAACAGGT\\nATTATATTATCAAATTCTTCAATTGATATTATACTTCATGATACATATTATGTTATTGGT\\nCATTTTCATTATGTTTTATCTATAGGGGCTGTATTTGCCATTATTGCAAGATTAATTCAT\\nTGATACCCCTTATTCACTGGATTAACTTTAAATAAAAAATTATTAAATATTCAATTTATT\\nATAATATTTACAGGAGTGAACTTGACTTTTTTCCCTCAACATTTTCTAGGTTTAATAGGG\\nATACCTCGACGATATTCTGATTACCCAGATGCATATTATTGTTGAAATTTAATTTCTTCA\\nATTGGATCTATAATTTCTTTTCACAGATTAATTTTATTAATTTTCATTTTATTAGAAAGA\\nTTAATTATAAAACGATTTATTTTATTTAAATTTTTTCAATCATCATTAGAATGAATACAA\\nAATTATCCTCCTTTAAGACATTCATATAATGAATTACC\\n>Lasioglossum_mediterraneum COI-5P consensus sequence retrieved from BOLD database\\n------------------------------------------------------------\\n------------------------------------------------------------\\n------------------------------------------------------------\\n------------------------------------------------------------\\n---------------------------TTAATCCCATCATTATTTATATTATTAATTAGA\\nAGAATTTTATCTTCAGGCTCAGGAACTGGATGAACAATTTACCCCCCTCTATCTAACGCT\\nACATTCCATCCATCAATTTCAATAGACTGTACAATTTTTTCATTACATATTGCTGGAATT\\nTCATCTATTATAGGAGCAATTAATTTTATCGTATCAATTATTTTAATAAAAAATTTTTCT\\nATTAATTACGACCAAATTCCTCTCTTCCCTTGATCTGTAAAAATTACTGCTATCCTTTTA\\nTTATTATCTTTACCAGTACTAGCAGGTGCAATCACTATATTATTAACTGACCGAAATTTA\\nAACACCTCATTTTTTGACCCTTCAGGAGGAGGTGACCCAATCCTATATCAACACTTATTC\\nTGATTCTTTGGACACCCAGAAGTATATATTTTAATTTTACCAGGATTTGGCCTAATTTCA\\nCATATCATTTTTAATGAAAGAGGAAAAAAAGAAATCTTTGGAAATTTAGGAATAATTTAC\\nGCTATACTTGGTATTGGATTTTTAGGTTTTATTGTCTGAGCACATCATATATTTACTGTT\\nGGATTAGATGTAGATACCCGAG--------------------------------------\\n------------------------------------------------------------\\n------------------------------------------------------------\\n------------------------------------------------------------\\n------------------------------------------------------------\\n------------------------------------------------------------\\n------------------------------------------------------------\\n------------------------------------------------------------\\n------------------------------------------------------------\\n------------------------------------------------------------\\n--------------------------------------\\n>Lasioglossum_laticeps COI-5P consensus sequence retrieved from BOLD database\\n--AATATTATATTTCATCTTTGCTATATGATCTGGAATAATTGGAACTTCTTTAAGAATA\\nATTATTCGCATAGAATTAAGAGCACCTGGAAGATGAATTTGTAATGACCAAATTTATAAT\\nACTATTGTTACCTCTCATGCCTTTATTATAATCTTCTTTATAGTTATACCCTTTATAATT\\nGGTGGATTTGGAAATTGACTTGTACCATTAATAATTGGAGCCCCTGATATAGCATTCCCT\\nCGAATAAATAATATAAGATTTTGACTTCTAATTCCATCACTATTCATATTATTAATTAGA\\nAGAATTCTATCATCAGGATCAGGAACTGGTTGAACAATTTACCCACCACTATCAAATGCT\\nACATTCCACCCATCAATTTCAGTAGATTGTACAATTTTTTCATTACATATTGCTGGAATC\\nTCATCCATTATAGGAGCCATTAATTTTATTGTATCAATTATTATAATAAAAAATTTATCT\\nATTAATTATGATCAAGTACCTTTATTTCCTTGATCAGTAAAAATTACCGCAATTTTATTA\\nTTACTATCATTACCAGTTCTTGCAGGAGCTATTACTATATTATTAACAGATCGAAATCTA\\nAATACTTCATTTTTTGACCCATCAGGAGGAGGAGACCCAATTTTATACCAACACTTATTT\\nTGATTTTTTGGACACCCAGAAGTATACATCTTAATTTTACCTGGCTTTGGTTTAATTTCC\\nCATATTATTTTTAATGAAAGAGGAAAAAAAGAAATTTTTGGTAACTTAGGAATAATTTAT\\nGCTATAATTGGCATTGGATTTTTAGGATTTATTGTATGGGCTCATCATATATTTACTGTT\\nGGATTAGATGTAGATACTCGAG--------------------------------------\\n------------------------------------------------------------\\n------------------------------------------------------------\\n------------------------------------------------------------\\n------------------------------------------------------------\\n------------------------------------------------------------\\n------------------------------------------------------------\\n------------------------------------------------------------\\n------------------------------------------------------------\\n------------------------------------------------------------\\n--------------------------------------\\n>Lasioglossum_marginatum COI-5P consensus sequence retrieved from BOLD database\\n--TATATTATACTTTATATTTGCTATATGATCAGGAATAATTGGAGCTTCATTAAGAATA\\nATTATTCGAATAGAACTAAGTACACCAGGTAATTGAATCAATAATGACCAAATTTATAAT\\nACAATTATTACTTCCCATGCATTTATCATAATTTTTTTTATAGTTATACCATTTATAATC\\nGGAGGATTTGGAAATTGATTAGTACCCTTAATAATTGGGGCACCAGATATAGCATTCCCT\\nCGAATAAATAATATAAGATTTTGATTACTTATCCCATCATTATTTATATTACTAATAAGA\\nAGAATTTTATCATCTGGATCAGGAACAGGATGAACTGTTTACCCTCCTCTATCCTCTATT\\nATATATCATTCATCGATTTCTGTAGATTGTACAATTTTTTCACTACATATTGCAGGAATC\\nTCATCAATTATAGGAGCTATTAATTTTATTGTTTCAATTCTTTTAATAAAAAATATCTCT\\nATTAATTATGACCAAATTCCTCTATTTCCCTGATCAGTAAAAATTACTGCTATTCTATTA\\nTTATTAGCCCTTCCAGTATTAGCAGGCGCTATTACTATACTCTTAACCGATCGAAATATA\\nAATACATCATTTTTTGACCCATCAGGAGGAGGAGATCCTATTTTATATCAACATTTATTT\\nTGATTTTTTGGTCACCCAGAAGTATATATTTTAATTTTGCCAGGATTTGGTTTAATCTCC\\nCATATTATCTTTAATGAAAGAGGAAAAAAAGAAATTTTTGGAAACTTAGGAATAATTTAT\\nGCAATACTAGGAATTGGATTCTTAGGATTTATTGTATGAGCTCATCATATATTTACAGTC\\nGGACTAGATGTAGATACGCGAG--------------------------------------\\n------------------------------------------------------------\\n------------------------------------------------------------\\n------------------------------------------------------------\\n------------------------------------------------------------\\n------------------------------------------------------------\\n------------------------------------------------------------\\n------------------------------------------------------------\\n------------------------------------------------------------\\n------------------------------------------------------------\\n--------------------------------------\\n>Lasioglossum_interruptum COI-5P consensus sequence retrieved from BOLD database\\n--NATATTATANTTNATTTTNGCAATATGANCAGGAATAATTGGAGCTTCATTAAGAATA\\nATTATTCGAATAGAATTAAGTGTACCAGGAAGATGAATTAATAATGATCAAATTTATAAT\\nACTATTGTTACTTCTCATGCATTTATTATAATTTTTTTTATAGTTATACCATTTATAATT\\nGGAGGATTTGGAAACTGATTAGTACCATTAATATTAGGAGCACCTGATATAGCATTCCCA\\nCGAATAAATAATATAAGATTTTGATTATTAACTCCATCATTATTTTTACTTATAATAAGA\\nAGAATTTTATCCTCTGGTTCAGGAACAGGATGAACAATTTATCCCCCCTTATCTACTTCC\\nATATATCATCCATCTATTTCTATAGACTGTACAATTTTCTCCTTACACATAGCAGGAATT\\nTCATCTATTATAGGAGCTATTAATTTTATTGTATCAATCATATTTATAAAAAATATCTCA\\nATTAATTATGATCAAATTCCACTTTTCCCTTGATCTGTAAAAATTACAGCTATTTTATTA\\nCTTTTATCACTTCCAATTTTAGCAGGAGCTATTACTATATTATTAACAGATCGAAATCTA\\nAATACTTCATTTTTTGATCCATCAGGAGGTGGAGACCCTATTNTATATCAACATTTATTT\\nTGATTTTTTGGTCATCCAGAAGTTTATATTTTAATTCTACCTGGATTTGGTTTAATTTCT\\nCATATTATTTTTAATGAAAGAGGAAAAAAAGAAATCTTTGGAAATTTAGGTATAATTTAT\\nGCTATATTAGGAATTGGATTTTTAGGTTTTATTGTCTGAGCTCACCATATATTTACTGTA\\nGGATTAGATGTTGACACACGAG--------------------------------------\\n------------------------------------------------------------\\n------------------------------------------------------------\\n------------------------------------------------------------\\n------------------------------------------------------------\\n------------------------------------------------------------\\n------------------------------------------------------------\\n------------------------------------------------------------\\n------------------------------------------------------------\\n------------------------------------------------------------\\n--------------------------------------\\n>Lasioglossum_limbellum COI-5P consensus sequence retrieved from BOLD database\\n------------------------------------------------------------\\n------------------------------------------------------------\\n------------------------------------------------------------\\n------------------------------------------------------TTTCCA\\nCGAATAAATAATATAAGATTTTGACTTCTAATTCCATCTTTATTTATACTATTAATAAGA\\nAGAATTTTAGCTTCTGGTTCAGGAACAGGATGAACAGTATACCCCCCACTATCTTCTATT\\nATATACCATTCATCAATCTCTGTAGATTGCACTATTTTCTCTCTTCATATTGCAGGAATT\\nTCATCTATCATAGGAGCAATTAATTTTATTGTATCTATTATATTAATAAAAAATATTTCA\\nATCAATTATGATCAAATTCCTTTATTCCCATGATCAGTTAAAATTACAGCAATTTTATTA\\nTTATTATCTTTACCAGTATTAGCAGGAGCAATTACTATACTTTTAACTGATCGTAATTTA\\nAATACTTCATTTTTTGACCCATCCGGAGGAGGAGANCCAATCCTTTATCAACATTTATTT\\nTGATTTTTTGGACATCCAGAAGTCTACATTTTAATTCTACCTGGATTTGGATTAATTTCA\\nCATATTATTTTTAATGAAAGAGGAAAAAAAGAAATTTTTGGTAATTTAGGTATAATTTAT\\nGCTATATTAGGAATTGGATTTTTAGGATTTATTGTTTGAGCCCACCATATATTTACTGTA\\nGGATTAGATGTAGATACACGAG--------------------------------------\\n------------------------------------------------------------\\n------------------------------------------------------------\\n------------------------------------------------------------\\n------------------------------------------------------------\\n------------------------------------------------------------\\n------------------------------------------------------------\\n------------------------------------------------------------\\n------------------------------------------------------------\\n------------------------------------------------------------\\n--------------------------------------\\n>Lasioglossum_morio COI-5P consensus sequence retrieved from BOLD database\\n--AATATTATATTTTATTTTCGCAATATGAGCTGGAATAATTGGAGCTTCACTAAGAATA\\nATTATTCGAATAGAATTAAGAGCCCCTGGAAGATGAATTAATAATGATCAAATTTATAAT\\nACTATTATTACATCACATGCATTTGTAATAATTTTCTTTATAGTTATACCATTTATAATT\\nGGAGGATTTGGAAATTGATTAGTCCCACTAATAATTGGAGCCCCTGATATAGCATTCCCA\\nCGAATAAATAATATAAGATTNTGATTATTAATTCCTTCTTTATTCATATTATTAATAAGA\\nAGAATTTTATCATCAGGATCAGGAACAGGATGAACAGTTTACCCCCCATTATCTTCAATT\\nACATACCATTCATCTATTTCTGTAGATTGCACTATCTTTTCATTACACATTGCTGGAATC\\nTCATCCATTATAGGAGCTATTAATTTTATTGTTTCAATTATATTAATAAAAAATATTTCA\\nATCAATTATGATCAAATTCCATTATTCCCATGATCAGTAAAAATTACAGCTATCCTTTTA\\nCTTTTATCTTTACCTGTATTAGCCGGAGCTATTACTATATTATTAACAGATCGAAACTTA\\nAATACTTCATTTTTTGACCCCTCAGGAGGAGGAGACCCAATTCTTTACCAACATTTATTC\\nTGATTTTTTGGTCACCCAGAAGTTTATATTTTAATTCTACCTGGATTTGGCCTAATTTCA\\nCATATTATTTTTAATGAAAGAGGAAAAAAAGAAATTTTTGGAAACTTAGGAATAATTTAC\\nGCAATATTAGGAATTGGATTTTTAGGGTTCATTGTATGAGCACATCATATATTTACTGTA\\nGGATTAGATGTAGATACCCGAG--------------------------------------\\n------------------------------------------------------------\\n------------------------------------------------------------\\n------------------------------------------------------------\\n------------------------------------------------------------\\n------------------------------------------------------------\\n------------------------------------------------------------\\n------------------------------------------------------------\\n------------------------------------------------------------\\n------------------------------------------------------------\\n--------------------------------------\\n>Lasioglossum_villosulum COI-5P consensus sequence retrieved from BOLD database\\n--AATATTATATTTTATTTTTGCTATATGAGCAGGAATAATTGGAGCATCATTAAGAATA\\nATTATTCGAATAGAATTAAGAGTACCAGGAAGATGAATTAATAATGATCAAATTTATAAT\\nACTATTATTACTTCTCATGCATTTATTATAATTTTTTTTATAGTTATACCCTTTATAATT\\nGGAGGATTTGGAAATTGATTAGTTCCTTTAATAATTGGAGCACCTGATATAGCTTTCCCT\\nCGAATAAATAATATAAGATTTTGACTTTTAATTCCATCTTTATTTATATTATTAATAAGA\\nAGTATTTTAGCTTCAGGATCAGGAACAGGATGAACAATTTATCCCCCTTTATCATCTATT\\nATATATCATTCATCAATTTCTGTAGATTGTACTATTTTTTCATTACATATTGCAGGCATT\\nTCTTCTATTATAGGAGCTATTAATTTTATTGTATCTATCTTATTAATAAAAAATATTTCT\\nATTAATTATGACCAAATTCCATTATTTCCTTGATCAGTAAAAATTACTGCTATTTTATTA\\nCTCTTATCTTTACCTGTATTAGCAGGAGCTATTACTATATTATTAACAGATCGAAATTTA\\nAATACTTCATTTTTTGATCCATCTGGAGGAGGAGATCCTATTCTTTATCAACATTTATTT\\nTGATTTTTTGGACANCCAGAAGTTTATATTTTAATTCTNCCTGGATTTGGANTAATTTCA\\nCATATTATTTTNAANGAAAGAGGAAAAAAAGAAATTTTTGGNAATTTAGGAATAATTTAT\\nGCAATATTAGGAATTGGATTNTTNGGATTNATTGTATGAGCCCATCANATATTTACTGTA\\nGGANTAGATGTTGATACTCGAG--------------------------------------\\n------------------------------------------------------------\\n------------------------------------------------------------\\n------------------------------------------------------------\\n------------------------------------------------------------\\n------------------------------------------------------------\\n------------------------------------------------------------\\n------------------------------------------------------------\\n------------------------------------------------------------\\n------------------------------------------------------------\\n--------------------------------------\\n>Lasioglossum_fulvicorne COI-5P consensus sequence retrieved from BOLD database\\n--AATACTTTATTTCATCTTTGCTATATGAGCTGGAATAATTGGAGCTTCTCTAAGAATA\\nATTATTCGAATAGAATTAAGTGCCCCCGGAAAATGAATTAATAATGATCAAATTTATAAT\\nACTATTNTTACTTCTCACGCATTTATTATAATTTTTTTTATAGTTATACCTTTTATAATT\\nGGAGGATTTGGAAATTGATTAATTCCATTAATAATTGGAGCACCAGATATAGCATTCCCC\\nCGAATAAATAATATAAGATTTTGATTACTCATCCCATCATTATTTATACTATTAATAAGA\\nAGAATTATAGCATCAGGATCAGGAACTGGATGAACTATTTATCCCCCATTATCTAATTCA\\nATATTTCATCCCTCTATCTCTATAGATTGCACAATTTTCTCATTACATATAGCAGGTATT\\nTCATCTATTATAGGAGCTATCAATTTTATTGTATCAATTATATTAATAAAAAATATCTCT\\nATTAATTTTGATCAAATTCCTTTATTCCCATGATCAGTAAAAATTACTGCTATTTTATTA\\nTTATTATCTTTACCTATTTTAGCAGGAGCTATTACTATACTTCTTACAGATCGAAATTTA\\nAATACATCATTCTTTGACCCATCAGGAGGAGGNGATCCTATTTTATATCAACACTTATTT\\nTGATTTTTTGGTCATCCAGAAGTATATATTTTAATTTTACCTGGATTCGGTTTAATTTCA\\nCATATTATTTTTAATGAAAGAGGGAAAAAAGAAATTTTTGGAAATTTAAGAATAATTTAT\\nGCTATATTAGGTATTGGATTTTTAGGATTTATTGTTTGAGCCCATCATATGTTTACTGTA\\nGGAATAGATGTAGATACTCGAG--------------------------------------\\n------------------------------------------------------------\\n------------------------------------------------------------\\n------------------------------------------------------------\\n------------------------------------------------------------\\n------------------------------------------------------------\\n------------------------------------------------------------\\n------------------------------------------------------------\\n------------------------------------------------------------\\n------------------------------------------------------------\\n--------------------------------------\\n>Lasioglossum_pauxillum COI-5P consensus sequence retrieved from BOLD database\\n--TATATTATATTTCATTTTTGCTATATGAGCAGGAATAATTGGAGCTTCTTTAAGAATA\\nATTATCCGAATAGAATTAAGTGCTCCCGGAAAATGAATTAATAATGATCAAATTTATAAT\\nACTATTATTACTTCTCATGCATTTATTATAATTTTTTTTATAGTTATACCTTTTATAATT\\nGGAGGTTTTGGAAATTGATTAATTCCATTAATAATTGGAGCCCCAGACATAGCTTTCCCT\\nCGAATAAATAATATAAGATTTTGATTACTTATTCCATCACTATTTATACTTTTAATAAGA\\nAGAATTTTAGCATCTGGTTCAGGAACTGGATGAACTATTTACCCTCCTTTATCTTCTTCA\\nACTTTTCACCCATCTATTTCTACAGATTGTACAATTTTTTCTTTACATATTGCTGGTATT\\nTCATCTATCATAGGAGCTATTAATTTTATTGTATCAATTATATTAATAAAAAATATTTCT\\nATTAATTATGATCAAATTCCTCTTTTCCCATGATCAGTAAAAATTACTGCTATCTTATTA\\nTTACTCTCTCTACCCGTTTTAGCCGGAGCTATTACTATACTTTTAACAGACCGAAATTTA\\nAATACATCATTTTTTGATCCTTCTGGAGGAGGAGACCCTATTTTATATCAACATTTATTT\\nTGATTTTTTGGACATCCAGAAGTATATATTTTAATTTTACCTGGATTTGGATTAATTTCC\\nCATATTATTTTTAATGAAAGAGGAAAAAAAGAAATTTTTGGAAATTTAGGAATAATTTAT\\nGCTATATTAGGAATTGGATTTTTAGGATTTATTGTTTGAGCTCATCATATATTTACAGTA\\nGGTATAGATGTAGATACTCGAG--------------------------------------\\n------------------------------------------------------------\\n------------------------------------------------------------\\n------------------------------------------------------------\\n------------------------------------------------------------\\n------------------------------------------------------------\\n------------------------------------------------------------\\n------------------------------------------------------------\\n------------------------------------------------------------\\n------------------------------------------------------------\\n--------------------------------------\\n>Lasioglossum_malachurum COI-5P consensus sequence retrieved from BOLD database\\n--AATATTATACTTTATATTTGCCATATGATCTGGAATAATCGGAGCTTCATTAAGTATA\\nATTATTCGATTAGAATTAAGAATACCTGGAAATTGAATTAATAATGATCAAATTTATAAT\\nACTATTGTTACTTCTCATGCATTTATTATAATTTTTTTTATAGTTATACCATTTATAATT\\nGGTGGGTTTGGAAATTGATTAATTCCATTAATAATTGGAGCCCCTGACATAGCATTCCCT\\nCGAATAAATAATTTAAGATTCTGACTATTAATTCCATCAATAATTATATTATTAACAGGA\\nACAATCTTATCCTCTGGATCAGGAACAGGATGAACTATTTACCCGCCTTTATCTAGATCT\\nACATTTCATCCTTCAATTTCAGTTGATTGCACTATTTTTGCTCTTCATATAGCAGGAATT\\nTCTTCCATTATAGGAGCTATTAATTTTATTGTATCAATTACATTAATAAAAAATTCATCT\\nATTAAATATGATCAACTTCCTCTTTTCCCATGATCAGTAAAAATTACTGCTATTTTATTA\\nTTATTATCCTTACCAGTTTTAGCAGGTGCTATTACAATACTTTTAACAGATCGAAATATA\\nAATACTTCATTTTTTGACCCTTCAGGAGGAGGAGACCCTATTTTATATCAACATCTATTT\\nTGATTTTTTGGTCACCCAGAAGTTTATATTTTAATTTTACCAGGATTTGGACTAATTTCC\\nCATATTATTTTTAATGAAAGAGGAAAAAAAGAAATTTTTGGGAATTTAGGTATAATTTAC\\nGCAATATTAGGAATTGGATTTTTAGGATTTATTGTATGAGCACATCATATATTTACTGTA\\nGGATTAGATGTTGACACTCGAG--------------------------------------\\n------------------------------------------------------------\\n------------------------------------------------------------\\n------------------------------------------------------------\\n------------------------------------------------------------\\n------------------------------------------------------------\\n------------------------------------------------------------\\n------------------------------------------------------------\\n------------------------------------------------------------\\n------------------------------------------------------------\\n--------------------------------------\\n>Lasioglossum_nigripes COI-5P consensus sequence retrieved from BOLD database\\n--AATACTATACTTCATTTTTGCTATATGATCCGGAATAATTGGATCCTCTTTAAGAATA\\nATTATTCGAATAGAATTAAGTATTCCAGGAAAATGAATTAACAATGATCAAATTTATAAC\\nACTATTGTTACTTCCCATGCATTCATTATAATTTTTTTTATAGTTATACCATTTATAATT\\nGGTGGATTTGGAAATTGACTTGTACCATTAATAATTGGAGCCCCTGATATAGCATTTCCA\\nCGAATAAATAATATAAGATATTGATTATTAATTCCATCATTATTTATATTATTAATAAGA\\nAGAATATTATCATCAGGATCAGGAACTGGATGAACAATTTATCCACCATTATCTAACTCT\\nACTTTTCATCCATCTATTTCAGTTGATTGCACAATTTTTTCATTACATATTGCAGGAATT\\nTCATCCATTATAGGAGCCATTAATTTTATTGTATCAATTATATTAATAAAAAATTTATCA\\nATTAATTATGATCAAATTCCTCTTTTCCCATGATCAGTAAAAATTACAGCTATTCTTTTA\\nCTTTTATCATTACCAATTTTAGCTGGAGCTATTACAATACTTCTTACAGATCGAAATATA\\nAATACTTCATTTTTTGACCCATCAGGAGGAGGAGATCCTATTTTATTTCAACATCTATTT\\nTGATTTTTTGGTCATCCAGAAGTTTATATTTTAATTCTTCCAGGATTTGGTTTAATTTCC\\nCATATTATCTTTAACGAAAGAGGAAAAAAAGAAATTTTTGGTAATTTAGGTATAATTTAT\\nGCCATACTAGGTATTGGATTCTTAGGATTTATTGTATGAGCTCATCATATATTTACTGTT\\nGGATTAGATGTAGATACTCGAG--------------------------------------\\n------------------------------------------------------------\\n------------------------------------------------------------\\n------------------------------------------------------------\\n------------------------------------------------------------\\n------------------------------------------------------------\\n------------------------------------------------------------\\n------------------------------------------------------------\\n------------------------------------------------------------\\n------------------------------------------------------------\\n--------------------------------------\\n>Lasioglossum_albipes COI-5P consensus sequence retrieved from BOLD database\\n--TATATTATATTTTATCTTTGCTATATGATCTGGAATAATTGGATCTTCTTTAAGAATA\\nATTATTCGAATAGAATTAAGAGTTCCAGGAAAATGAATTAACAATGATCAAATTTATAAC\\nACTATTGTCACTTCACATGCATTTATCATAATTTTCTTTATAGTTATACCATTTATAATT\\nGGTGGATTTGGAAACTGACTTGTACCATTAATAATTGGAGCTCCTGACATAGCATTCCCA\\nCGAATAAATAATATAAGATTATGATTATTAATACCATCATTATTTATACTTTTAATAAGA\\nAGAATATTATCCTCAGGATCAGGAACTGGATGAACAATTTACCCACCACTATCTAACTCT\\nACTTTCCACCCATCAATCTCAGTAGATTGTACAATTTTTTCATTACATATTGCAGGAATT\\nTCATCCATTATAGGAGCTATTAATTTTATTGTATCAATTATATTAATAAAAAATATATCT\\nATTAATTATGATCAAATTCCTCTTTTTCCATGATCAGTAAAAATTACAGCTATTCTTCTT\\nCTTTTATCATTACCAATTTTAGCGGGAGCCATTACAATACTTTTAACAGATCGAAATATA\\nAATACTTCATTTTTTGACCCATCAGGTGGAGGTGACCCTATTTTATATCAACATCTATTT\\nTGATTTTTTGGNCATCCAGAAGTTTATATTTTAATCCTTCCAGGATTTGGATTAATTTCA\\nCANATTATCTTCAATGAAAGAGGAAAAAAAGAAATNTTTGGAAACTTAGGNATAATTTAN\\nGCTATATTAGGNATTGGATTTTTAGGATTTATTGTATGAGCCCATCATATATTTACTGTT\\nGGATTAGACGTAGATACTCGAGCATACTTCACATCAGCCACTATAATTATTGCAGTACCC\\nA-----------------------------------------------------------\\n------------------------------------------------------------\\n------------------------------------------------------------\\n------------------------------------------------------------\\n------------------------------------------------------------\\n------------------------------------------------------------\\n------------------------------------------------------------\\n------------------------------------------------------------\\n------------------------------------------------------------\\n--------------------------------------\\n>Lasioglossum_calceatum COI-5P consensus sequence retrieved from BOLD database\\n--AATATTATATTTTATCTTTGCTATATGATCTGGAATAATTGGATCCTCTTTAAGAATA\\nATTATTCGAATAGAATTAAGAGTACCAGGAAAATGAATTAATAATGATCAAATTTATAAT\\nACTATTGTAACTTCACATGCATTTATTATAATTTTTTTTATAGTTATACCATTTATAATT\\nGGTGGATTTGGAAATTGACTCGTACCATTAATAATTGGAGCCCCTGATATAGCATTCCCA\\nCGAATAAATAATATAAGATTATGATTATTAATACCATCATTATTTATACTATTAATAAGA\\nAGATTATTATCCTCAGGATCAGGAACTGGATGAACAATTTACCCACCATTATCTAACTCT\\nACTTTTCATCCATCAATCTCAGTAGATTGCACAATTTTTTCATTACATATTGCAGGAATT\\nTCATCCATTATAGGAGCTATTAATTTTATTGTATCAATTATATTAATAAAAAATATATCT\\nATTAACTATGATCAAATTCCTCTTTTTCCATGATCAGTAAAAATTACAGCCATCCTTCTT\\nCTACTATCATTACCAATTTTAGCTGGAGCCATTACAATACTTTTAACAGATCGAAATATA\\nAATACTTCATTTTTTGATCCATCAGGAGGTGGTGATCCTATTTTATATCAACATCTATTT\\nTGATTTTTTGGACACCCAGAAGTTTATATTNTAATCCTTCCAGGATTTGGATTAATTTCA\\nCATATTATCTTCAATGAAAGAGGAAAAAAAGAAATTTTTGGAAACTTAGGTATAATTTAT\\nGCTATATTAGGTATTGGATTTTTAGGTTTTATTGTATGAGCNCATCANATATTTACTGTT\\nGGATTAGACGTAGATACTCGAGCATACTTCACATCAGCCACCATAATTATTGCAGTACCA\\nA-----------------------------------------------------------\\n------------------------------------------------------------\\n------------------------------------------------------------\\n------------------------------------------------------------\\n------------------------------------------------------------\\n------------------------------------------------------------\\n------------------------------------------------------------\\n------------------------------------------------------------\\n------------------------------------------------------------\\n--------------------------------------\\n',\n",
       " '\\nMUSCLE v3.8.31 by Robert C. Edgar\\n\\nhttp://www.drive5.com/muscle\\nThis software is donated to the public domain.\\nPlease cite: Edgar, R.C. Nucleic Acids Res 32(5), 1792-97.\\n\\n- 25 seqs, max length 1478, avg  length 994\\n00:00:00      1 MB(0%)  Iter   1    0.31%  K-mer dist pass 1\\r00:00:00      1 MB(0%)  Iter   1  100.00%  K-mer dist pass 1\\r\\n00:00:00      1 MB(0%)  Iter   1    0.31%  K-mer dist pass 2\\r00:00:00      1 MB(0%)  Iter   1  100.00%  K-mer dist pass 2\\r\\n00:00:00      5 MB(0%)  Iter   1    4.17%  Align node       \\r00:00:00     10 MB(0%)  Iter   1    8.33%  Align node\\r00:00:00     10 MB(0%)  Iter   1   12.50%  Align node\\r00:00:00     11 MB(0%)  Iter   1   16.67%  Align node\\r00:00:00     12 MB(0%)  Iter   1   20.83%  Align node\\r00:00:00     12 MB(0%)  Iter   1   25.00%  Align node\\r00:00:00     14 MB(0%)  Iter   1   29.17%  Align node\\r00:00:00     14 MB(0%)  Iter   1   33.33%  Align node\\r00:00:00     15 MB(0%)  Iter   1   37.50%  Align node\\r00:00:00     16 MB(0%)  Iter   1   41.67%  Align node\\r00:00:00     16 MB(0%)  Iter   1   45.83%  Align node\\r00:00:00     17 MB(0%)  Iter   1   50.00%  Align node\\r00:00:00     17 MB(0%)  Iter   1   54.17%  Align node\\r00:00:00     18 MB(0%)  Iter   1   58.33%  Align node\\r00:00:00     18 MB(0%)  Iter   1   62.50%  Align node\\r00:00:00     19 MB(0%)  Iter   1   66.67%  Align node\\r00:00:00     19 MB(0%)  Iter   1   70.83%  Align node\\r00:00:00     20 MB(0%)  Iter   1   75.00%  Align node\\r00:00:00     20 MB(0%)  Iter   1   79.17%  Align node\\r00:00:00     20 MB(0%)  Iter   1   83.33%  Align node\\r00:00:00     21 MB(0%)  Iter   1   87.50%  Align node\\r00:00:00     21 MB(0%)  Iter   1   91.67%  Align node\\r00:00:00     22 MB(0%)  Iter   1   95.83%  Align node\\r00:00:00     22 MB(0%)  Iter   1  100.00%  Align node\\r00:00:00     23 MB(0%)  Iter   1  100.00%  Align node\\r\\n00:00:00     23 MB(0%)  Iter   1    4.00%  Root alignment\\r00:00:00     23 MB(0%)  Iter   1    8.00%  Root alignment\\r00:00:00     23 MB(0%)  Iter   1   12.00%  Root alignment\\r00:00:00     23 MB(0%)  Iter   1   16.00%  Root alignment\\r00:00:00     23 MB(0%)  Iter   1   20.00%  Root alignment\\r00:00:00     23 MB(0%)  Iter   1   24.00%  Root alignment\\r00:00:00     23 MB(0%)  Iter   1   28.00%  Root alignment\\r00:00:00     23 MB(0%)  Iter   1   32.00%  Root alignment\\r00:00:00     23 MB(0%)  Iter   1   36.00%  Root alignment\\r00:00:00     23 MB(0%)  Iter   1   40.00%  Root alignment\\r00:00:00     23 MB(0%)  Iter   1   44.00%  Root alignment\\r00:00:00     23 MB(0%)  Iter   1   48.00%  Root alignment\\r00:00:00     23 MB(0%)  Iter   1   52.00%  Root alignment\\r00:00:00     23 MB(0%)  Iter   1   56.00%  Root alignment\\r00:00:00     23 MB(0%)  Iter   1   60.00%  Root alignment\\r00:00:00     23 MB(0%)  Iter   1   64.00%  Root alignment\\r00:00:00     23 MB(0%)  Iter   1   68.00%  Root alignment\\r00:00:00     23 MB(0%)  Iter   1   72.00%  Root alignment\\r00:00:00     23 MB(0%)  Iter   1   76.00%  Root alignment\\r00:00:00     23 MB(0%)  Iter   1   80.00%  Root alignment\\r00:00:00     23 MB(0%)  Iter   1   84.00%  Root alignment\\r00:00:00     23 MB(0%)  Iter   1   88.00%  Root alignment\\r00:00:00     23 MB(0%)  Iter   1   92.00%  Root alignment\\r00:00:00     23 MB(0%)  Iter   1   96.00%  Root alignment\\r00:00:00     23 MB(0%)  Iter   1  100.00%  Root alignment\\r00:00:00     23 MB(0%)  Iter   1  100.00%  Root alignment\\r\\n00:00:00     23 MB(0%)  Iter   2    4.35%  Refine tree   \\r00:00:00     23 MB(0%)  Iter   2    8.70%  Refine tree\\r00:00:00     23 MB(0%)  Iter   2   13.04%  Refine tree\\r00:00:00     23 MB(0%)  Iter   2   17.39%  Refine tree\\r00:00:00     23 MB(0%)  Iter   2   21.74%  Refine tree\\r00:00:00     23 MB(0%)  Iter   2   26.09%  Refine tree\\r00:00:00     23 MB(0%)  Iter   2   30.43%  Refine tree\\r00:00:00     23 MB(0%)  Iter   2   34.78%  Refine tree\\r00:00:00     23 MB(0%)  Iter   2   39.13%  Refine tree\\r00:00:01     23 MB(0%)  Iter   2   43.48%  Refine tree\\r00:00:01     23 MB(0%)  Iter   2   47.83%  Refine tree\\r00:00:01     23 MB(0%)  Iter   2   52.17%  Refine tree\\r00:00:01     23 MB(0%)  Iter   2   56.52%  Refine tree\\r00:00:01     23 MB(0%)  Iter   2   60.87%  Refine tree\\r00:00:01     23 MB(0%)  Iter   2   65.22%  Refine tree\\r00:00:01     23 MB(0%)  Iter   2   69.57%  Refine tree\\r00:00:01     23 MB(0%)  Iter   2   73.91%  Refine tree\\r00:00:01     23 MB(0%)  Iter   2   78.26%  Refine tree\\r00:00:01     23 MB(0%)  Iter   2   82.61%  Refine tree\\r00:00:01     23 MB(0%)  Iter   2   86.96%  Refine tree\\r00:00:01     23 MB(0%)  Iter   2   91.30%  Refine tree\\r00:00:01     23 MB(0%)  Iter   2  100.00%  Refine tree\\r\\n00:00:01     23 MB(0%)  Iter   2    4.00%  Root alignment\\r00:00:01     23 MB(0%)  Iter   2    8.00%  Root alignment\\r00:00:01     23 MB(0%)  Iter   2   12.00%  Root alignment\\r00:00:01     23 MB(0%)  Iter   2   16.00%  Root alignment\\r00:00:01     23 MB(0%)  Iter   2   20.00%  Root alignment\\r00:00:01     23 MB(0%)  Iter   2   24.00%  Root alignment\\r00:00:01     23 MB(0%)  Iter   2   28.00%  Root alignment\\r00:00:01     23 MB(0%)  Iter   2   32.00%  Root alignment\\r00:00:01     23 MB(0%)  Iter   2   36.00%  Root alignment\\r00:00:01     23 MB(0%)  Iter   2   40.00%  Root alignment\\r00:00:01     23 MB(0%)  Iter   2   44.00%  Root alignment\\r00:00:01     23 MB(0%)  Iter   2   48.00%  Root alignment\\r00:00:01     23 MB(0%)  Iter   2   52.00%  Root alignment\\r00:00:01     23 MB(0%)  Iter   2   56.00%  Root alignment\\r00:00:01     23 MB(0%)  Iter   2   60.00%  Root alignment\\r00:00:01     23 MB(0%)  Iter   2   64.00%  Root alignment\\r00:00:01     23 MB(0%)  Iter   2   68.00%  Root alignment\\r00:00:01     23 MB(0%)  Iter   2   72.00%  Root alignment\\r00:00:01     23 MB(0%)  Iter   2   76.00%  Root alignment\\r00:00:01     23 MB(0%)  Iter   2   80.00%  Root alignment\\r00:00:01     23 MB(0%)  Iter   2   84.00%  Root alignment\\r00:00:01     23 MB(0%)  Iter   2   88.00%  Root alignment\\r00:00:01     23 MB(0%)  Iter   2   92.00%  Root alignment\\r00:00:01     23 MB(0%)  Iter   2   96.00%  Root alignment\\r00:00:01     23 MB(0%)  Iter   2  100.00%  Root alignment\\r00:00:01     23 MB(0%)  Iter   2  100.00%  Root alignment\\r\\n00:00:01     23 MB(0%)  Iter   2  100.00%  Root alignment\\r\\n00:00:01     23 MB(0%)  Iter   3    4.26%  Refine biparts\\r00:00:01     23 MB(0%)  Iter   3    6.38%  Refine biparts\\r00:00:01     23 MB(0%)  Iter   3    8.51%  Refine biparts\\r00:00:01     23 MB(0%)  Iter   3   10.64%  Refine biparts\\r00:00:01     23 MB(0%)  Iter   3   12.77%  Refine biparts\\r00:00:01     23 MB(0%)  Iter   3   14.89%  Refine biparts\\r00:00:01     23 MB(0%)  Iter   3   17.02%  Refine biparts\\r00:00:01     23 MB(0%)  Iter   3   19.15%  Refine biparts\\r00:00:01     23 MB(0%)  Iter   3   21.28%  Refine biparts\\r00:00:01     23 MB(0%)  Iter   3   23.40%  Refine biparts\\r00:00:01     23 MB(0%)  Iter   3   25.53%  Refine biparts\\r00:00:01     23 MB(0%)  Iter   3   27.66%  Refine biparts\\r00:00:01     23 MB(0%)  Iter   3   29.79%  Refine biparts\\r00:00:01     23 MB(0%)  Iter   3   31.91%  Refine biparts\\r00:00:01     23 MB(0%)  Iter   3   34.04%  Refine biparts\\r00:00:01     23 MB(0%)  Iter   3   36.17%  Refine biparts\\r00:00:01     23 MB(0%)  Iter   3   38.30%  Refine biparts\\r00:00:01     23 MB(0%)  Iter   3   40.43%  Refine biparts\\r00:00:01     23 MB(0%)  Iter   3   42.55%  Refine biparts\\r00:00:01     23 MB(0%)  Iter   3   44.68%  Refine biparts\\r00:00:01     23 MB(0%)  Iter   3   46.81%  Refine biparts\\r00:00:01     23 MB(0%)  Iter   3   48.94%  Refine biparts\\r00:00:01     23 MB(0%)  Iter   3   51.06%  Refine biparts\\r00:00:01     23 MB(0%)  Iter   3   53.19%  Refine biparts\\r00:00:01     23 MB(0%)  Iter   3   55.32%  Refine biparts\\r00:00:01     23 MB(0%)  Iter   3   57.45%  Refine biparts\\r00:00:01     23 MB(0%)  Iter   3   59.57%  Refine biparts\\r00:00:01     23 MB(0%)  Iter   3   61.70%  Refine biparts\\r00:00:01     23 MB(0%)  Iter   3   63.83%  Refine biparts\\r00:00:02     23 MB(0%)  Iter   3   65.96%  Refine biparts\\r00:00:02     23 MB(0%)  Iter   3   68.09%  Refine biparts\\r00:00:02     23 MB(0%)  Iter   3   70.21%  Refine biparts\\r00:00:02     23 MB(0%)  Iter   3   72.34%  Refine biparts\\r00:00:02     23 MB(0%)  Iter   3   74.47%  Refine biparts\\r00:00:02     23 MB(0%)  Iter   3   76.60%  Refine biparts\\r00:00:02     23 MB(0%)  Iter   3   78.72%  Refine biparts\\r00:00:02     23 MB(0%)  Iter   3   80.85%  Refine biparts\\r00:00:02     23 MB(0%)  Iter   3   82.98%  Refine biparts\\r00:00:02     23 MB(0%)  Iter   3   85.11%  Refine biparts\\r00:00:02     23 MB(0%)  Iter   3   87.23%  Refine biparts\\r00:00:02     23 MB(0%)  Iter   3   89.36%  Refine biparts\\r00:00:02     23 MB(0%)  Iter   3   91.49%  Refine biparts\\r00:00:02     23 MB(0%)  Iter   3   93.62%  Refine biparts\\r00:00:02     23 MB(0%)  Iter   3   95.74%  Refine biparts\\r00:00:02     23 MB(0%)  Iter   3   97.87%  Refine biparts\\r00:00:02     23 MB(0%)  Iter   3  100.00%  Refine biparts\\r00:00:02     23 MB(0%)  Iter   3  102.13%  Refine biparts\\r00:00:02     23 MB(0%)  Iter   3  100.00%  Refine biparts\\r\\n')"
      ]
     },
     "execution_count": 274,
     "metadata": {},
     "output_type": "execute_result"
    }
   ],
   "source": [
    "con_aln = muscle_align(conseqs.to_fasta())"
   ]
  },
  {
   "cell_type": "code",
   "execution_count": 275,
   "metadata": {
    "collapsed": false
   },
   "outputs": [],
   "source": [
    "with open('{0}.{1}.{2}.fasta'.format('halictid',marker,'consensus'),'w') as f:\n",
    "    f.write(conseqs.to_fasta())\n",
    "with open('{0}.{1}.{2}.fasta'.format('halictid',marker,'consensus_align'),'w') as f:\n",
    "    f.write(con_aln[0])"
   ]
  },
  {
   "cell_type": "code",
   "execution_count": null,
   "metadata": {
    "collapsed": true
   },
   "outputs": [],
   "source": []
  }
 ],
 "metadata": {
  "kernelspec": {
   "display_name": "Python 2",
   "language": "python",
   "name": "python2"
  },
  "language_info": {
   "codemirror_mode": {
    "name": "ipython",
    "version": 2
   },
   "file_extension": ".py",
   "mimetype": "text/x-python",
   "name": "python",
   "nbconvert_exporter": "python",
   "pygments_lexer": "ipython2",
   "version": "2.7.11"
  }
 },
 "nbformat": 4,
 "nbformat_minor": 0
}
