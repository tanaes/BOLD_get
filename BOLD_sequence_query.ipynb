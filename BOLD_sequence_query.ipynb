{
 "cells": [
  {
   "cell_type": "markdown",
   "metadata": {},
   "source": [
    "Getting consensus sequences from BOLD\n",
    "====================\n",
    "\n",
    "Use this python notebook to automatically get a consensus sequence for your taxa of interest from the BOLD db. \n",
    "\n",
    "To run, you'll need a python environment with scikit bio 0.2.3 (the version installed with Qiime 1.9.x) and the requests library for using RESTful APIs. To install this environment, you can use the following shell commands to download and install miniconda:\n",
    "\n",
    "    wget https://repo.continuum.io/miniconda/Miniconda-latest-Linux-x86_64.sh\n",
    "    chmod +x Miniconda-latest-Linux-x86_64.sh\n",
    "    ./Miniconda-latest-Linux-x86_64.sh -b\n",
    "    export PATH=${HOME}/miniconda/bin/:$PATH\n",
    "\n",
    "    conda create -n BOLD_get pip requests scikit-bio==0.2.3 notebook\n",
    "    source activate BOLD_get"
   ]
  },
  {
   "cell_type": "code",
   "execution_count": 1,
   "metadata": {
    "collapsed": true
   },
   "outputs": [],
   "source": [
    "import requests\n",
    "import subprocess\n",
    "import re\n",
    "\n",
    "from skbio.alignment import Alignment, SequenceCollection\n",
    "from skbio.parse.sequences import parse_fasta\n",
    "from skbio.sequence import DNA, DNASequence\n",
    "from StringIO import StringIO\n",
    "from skbio.format.sequences import fasta_from_sequences"
   ]
  },
  {
   "cell_type": "code",
   "execution_count": 2,
   "metadata": {
    "collapsed": false
   },
   "outputs": [],
   "source": [
    "# Align with muscle\n",
    "\n",
    "def muscle_align(fasta, muscle_x = 'muscle', muscle_params = []):\n",
    "    cmd = [muscle_x] #+ [muscle_params]\n",
    "    p = subprocess.Popen(cmd, stdout=subprocess.PIPE,\n",
    "                              stderr=subprocess.PIPE,\n",
    "                              stdin=subprocess.PIPE)\n",
    "    out, err = p.communicate(fasta)\n",
    "    return out, err\n"
   ]
  },
  {
   "cell_type": "code",
   "execution_count": 3,
   "metadata": {
    "collapsed": false
   },
   "outputs": [],
   "source": [
    "def terminal_degap(seq, term_char='.', gap_char='-'):\n",
    "    new_seq = list(seq)\n",
    "    i = 0\n",
    "    while new_seq[i] == gap_char:\n",
    "        new_seq[i] = term_char\n",
    "        i += 1\n",
    "    i = -1\n",
    "    while new_seq[i] == gap_char:\n",
    "        new_seq[i] = term_char\n",
    "        i -= 1\n",
    "    return(''.join(new_seq))\n",
    "\n",
    "def terminal_degap_fasta_f(fasta_f):\n",
    "    fasta_records = parse_fasta(fasta_f)\n",
    "    \n",
    "    new_aln_seqs = []\n",
    "    \n",
    "    for label, seq in fasta_records:\n",
    "        seq = terminal_degap(seq)\n",
    "        new_aln_seqs += [DNASequence(seq,label)]\n",
    "    new_aln_fasta = fasta_from_sequences(new_aln_seqs)\n",
    "    return(StringIO(new_aln_fasta))\n"
   ]
  },
  {
   "cell_type": "code",
   "execution_count": 4,
   "metadata": {
    "collapsed": false
   },
   "outputs": [],
   "source": [
    "def renorm_dict(d, exclude):\n",
    "    b = set(d.keys()) - set(exclude)\n",
    "    e = {k: d[k] for k in b} \n",
    "    total = float(sum(e.values()))\n",
    "    f = {k: float(e[k])/total for k in e}\n",
    "    \n",
    "    return(f)"
   ]
  },
  {
   "cell_type": "code",
   "execution_count": 5,
   "metadata": {
    "collapsed": false
   },
   "outputs": [],
   "source": [
    "def iupac_sub(nucs):\n",
    "    IUPAC_lookup = {\n",
    "        'R': ['A', 'G'],\n",
    "        'Y': ['C', 'T'],\n",
    "        'S': ['G', 'C'],\n",
    "        'W': ['A', 'T'],\n",
    "        'K': ['G', 'T'],\n",
    "        'M': ['A', 'C'],\n",
    "        'B': ['C', 'G', 'T'],\n",
    "        'D': ['A', 'G', 'T'],\n",
    "        'H': ['A', 'C', 'T'],\n",
    "        'V': ['A', 'C', 'G'],\n",
    "        'N': ['A', 'C', 'G', 'T']\n",
    "    }\n",
    "    nucs = [x.upper() for x in nucs]\n",
    "    for key in IUPAC_lookup:\n",
    "        if set(nucs) == set(IUPAC_lookup[key]):\n",
    "            return(key)\n",
    "    \n",
    "    return('N')"
   ]
  },
  {
   "cell_type": "code",
   "execution_count": 6,
   "metadata": {
    "collapsed": false
   },
   "outputs": [],
   "source": [
    "def simple_consensus(aln, min_freq=0.5, ignore_gap_chars=['.'], degenerate=False):\n",
    "    pf = aln.position_frequencies()\n",
    "    consensus_seq = ['*']*aln.sequence_length()\n",
    "    consensus_freq = ['*']*aln.sequence_length()\n",
    "    i = 0\n",
    "    for pos in pf:\n",
    "        # renormalize freqs after getting rid of ignored (terminal) gaps\n",
    "        pf_i = renorm_dict(pos, ignore_gap_chars)\n",
    "        \n",
    "        # get max freq\n",
    "        max_freq = max(pf_i.values())\n",
    "        consensus_freq[i] = max_freq\n",
    "        \n",
    "        n_max = [key for key,val in pf_i.iteritems() if val == max_freq]\n",
    "        \n",
    "        if max_freq > min_freq and len(n_max) == 1:\n",
    "            consensus_seq[i] = n_max[0]\n",
    "        elif max_freq > min_freq and len(n_max) > 1 and degenerate:\n",
    "            consensus_seq[i] = iupac_sub[n_max]\n",
    "        elif degenerate:\n",
    "            consensus_seq[i] = iupac_sub[pf_i.keys()]\n",
    "        else:\n",
    "            consensus_seq[i] = 'N'\n",
    "        i += 1\n",
    "    \n",
    "    return(''.join(consensus_seq),consensus_freq)"
   ]
  },
  {
   "cell_type": "code",
   "execution_count": 7,
   "metadata": {
    "collapsed": true
   },
   "outputs": [],
   "source": [
    "def limit_records(seqs, n = 10, limit = 'longest'):\n",
    "    if limit == 'longest':\n",
    "        ids = seqs.ids()\n",
    "        lengths = seqs.sequence_lengths()\n",
    "        \n",
    "        sorted_ids = [x for (y,x) in sorted(zip(lengths,ids), key=lambda pair: pair[0], reverse=True)]\n",
    "        \n",
    "        ids_to_keep = sorted_ids[0:n]\n",
    "        \n",
    "    if limit == 'first':\n",
    "        ids = seqs.ids()\n",
    "        ids_to_keep = ids[0:n]\n",
    "    \n",
    "    limited_seqs = SequenceCollection([seqs[x] for x in ids_to_keep])\n",
    "    \n",
    "    return(limited_seqs)"
   ]
  },
  {
   "cell_type": "code",
   "execution_count": 8,
   "metadata": {
    "collapsed": false
   },
   "outputs": [],
   "source": [
    "def get_BOLD_consensus_seq(taxon, marker, max_seqs=40, limit='longest', BOLD_url = 'http://www.boldsystems.org/index.php/API_Public/sequence'):\n",
    "    # get sequences\n",
    "    try:\n",
    "        r = requests.get(BOLD_url, params={'taxon':taxon, 'marker':marker}, timeout=5)\n",
    "    except  requests.exceptions.Timeout as e:\n",
    "        print(e, 'Request timed out; does taxon exist?')\n",
    "        return(taxon, None, None)\n",
    "    except requests.exceptions.ConnectionError as e:\n",
    "        print(e, 'Request timed out; does taxon exist?')\n",
    "        return(taxon, None, None)      \n",
    "    seqs = SequenceCollection.from_fasta_records(parse_fasta(StringIO(r.text), label_to_name = lambda x: re.sub (' ', '_', x)),DNA)\n",
    "    \n",
    "    seqs = limit_records(seqs, n = max_seqs, limit = limit)\n",
    "    \n",
    "    # generate alignment\n",
    "    m_aln, m_err = muscle_align(seqs.to_fasta())\n",
    "    \n",
    "    # degap alignment\n",
    "    muscle_aln_degap_f = terminal_degap_fasta_f(StringIO(m_aln))\n",
    "\n",
    "    muscle_aln_degapped = Alignment.from_fasta_records(parse_fasta(muscle_aln_degap_f),DNA)\n",
    "\n",
    "    # make consensus sequences\n",
    "    consensus_seq, consensus_freq = simple_consensus(muscle_aln_degapped)\n",
    "    \n",
    "    # return fasta pair\n",
    "    return('{0} {1} consensus sequence retrieved from BOLD database'.format(re.sub(' ','_',taxon), marker),consensus_seq,seqs.to_fasta())\n"
   ]
  },
  {
   "cell_type": "code",
   "execution_count": 9,
   "metadata": {
    "collapsed": false
   },
   "outputs": [
    {
     "data": {
      "text/plain": [
       "{'Halictus Halictus_sp',\n",
       " 'Halictus crenicornis',\n",
       " 'Halictus fulvipes',\n",
       " 'Halictus maculatus',\n",
       " 'Halictus pollinosus',\n",
       " 'Halictus rubicundus',\n",
       " 'Halictus scabiosae',\n",
       " 'Halictus tumulorum',\n",
       " 'Lasioglossum albipes',\n",
       " 'Lasioglossum calceatum',\n",
       " 'Lasioglossum fulvicorne',\n",
       " 'Lasioglossum interruptum',\n",
       " 'Lasioglossum laevigatum',\n",
       " 'Lasioglossum laticeps',\n",
       " 'Lasioglossum lativentre',\n",
       " 'Lasioglossum leucozonium',\n",
       " 'Lasioglossum limbellum',\n",
       " 'Lasioglossum malachurum',\n",
       " 'Lasioglossum marginatum',\n",
       " 'Lasioglossum mediterraneum',\n",
       " 'Lasioglossum morio',\n",
       " 'Lasioglossum nigripes',\n",
       " 'Lasioglossum pauxillum',\n",
       " 'Lasioglossum villosulum',\n",
       " 'Lasioglossum zonulum',\n",
       " 'Sphecodes Sphecodes_sp',\n",
       " 'Sphecodes geoffrellus'}"
      ]
     },
     "execution_count": 9,
     "metadata": {},
     "output_type": "execute_result"
    }
   ],
   "source": [
    "species_list = ['Halictus crenicornis', 'Halictus fulvipes', 'Halictus fulvipes', 'Halictus maculatus', 'Halictus maculatus', 'Halictus maculatus', 'Halictus maculatus', 'Halictus maculatus', 'Halictus maculatus', 'Halictus maculatus', 'Halictus maculatus', 'Halictus maculatus', 'Halictus maculatus', 'Halictus maculatus', 'Halictus pollinosus', 'Halictus pollinosus', 'Halictus rubicundus', 'Halictus rubicundus', 'Halictus scabiosae', 'Halictus scabiosae', 'Halictus scabiosae', 'Halictus scabiosae', 'Halictus scabiosae', 'Halictus scabiosae', 'Halictus scabiosae', 'Halictus scabiosae', 'Halictus scabiosae', 'Halictus scabiosae', 'Halictus Halictus_sp', 'Halictus tumulorum', 'Halictus tumulorum', 'Halictus tumulorum', 'Halictus tumulorum', 'Halictus tumulorum', 'Lasioglossum albipes', 'Lasioglossum albipes', 'Lasioglossum albipes', 'Lasioglossum albipes', 'Lasioglossum albipes', 'Lasioglossum albipes', 'Lasioglossum albipes', 'Lasioglossum albipes', 'Lasioglossum albipes', 'Lasioglossum albipes', 'Lasioglossum albipes', 'Lasioglossum albipes', 'Lasioglossum albipes', 'Lasioglossum albipes', 'Lasioglossum albipes', 'Lasioglossum albipes', 'Lasioglossum albipes', 'Lasioglossum albipes', 'Lasioglossum albipes', 'Lasioglossum albipes', 'Lasioglossum albipes', 'Lasioglossum albipes', 'Lasioglossum albipes', 'Lasioglossum albipes', 'Lasioglossum albipes', 'Lasioglossum albipes', 'Lasioglossum albipes', 'Lasioglossum calceatum', 'Lasioglossum calceatum', 'Lasioglossum calceatum', 'Lasioglossum calceatum', 'Lasioglossum calceatum', 'Lasioglossum calceatum', 'Lasioglossum calceatum', 'Lasioglossum calceatum', 'Lasioglossum calceatum', 'Lasioglossum calceatum', 'Lasioglossum calceatum', 'Lasioglossum calceatum', 'Lasioglossum fulvicorne', 'Lasioglossum interruptum', 'Lasioglossum interruptum', 'Lasioglossum laevigatum', 'Lasioglossum laevigatum', 'Lasioglossum laticeps', 'Lasioglossum laticeps', 'Lasioglossum laticeps', 'Lasioglossum laticeps', 'Lasioglossum laticeps', 'Lasioglossum laticeps', 'Lasioglossum laticeps', 'Lasioglossum laticeps', 'Lasioglossum laticeps', 'Lasioglossum laticeps', 'Lasioglossum lativentre', 'Lasioglossum lativentre', 'Lasioglossum leucozonium', 'Lasioglossum leucozonium', 'Lasioglossum leucozonium', 'Lasioglossum leucozonium', 'Lasioglossum leucozonium', 'Lasioglossum leucozonium', 'Lasioglossum leucozonium', 'Lasioglossum leucozonium', 'Lasioglossum leucozonium', 'Lasioglossum leucozonium', 'Lasioglossum leucozonium', 'Lasioglossum leucozonium', 'Lasioglossum leucozonium', 'Lasioglossum leucozonium', 'Lasioglossum leucozonium', 'Lasioglossum leucozonium', 'Lasioglossum limbellum', 'Lasioglossum limbellum', 'Lasioglossum limbellum', 'Lasioglossum malachurum', 'Lasioglossum malachurum', 'Lasioglossum malachurum', 'Lasioglossum malachurum', 'Lasioglossum malachurum', 'Lasioglossum malachurum', 'Lasioglossum malachurum', 'Lasioglossum malachurum', 'Lasioglossum malachurum', 'Lasioglossum malachurum', 'Lasioglossum malachurum', 'Lasioglossum malachurum', 'Lasioglossum malachurum', 'Lasioglossum malachurum', 'Lasioglossum malachurum', 'Lasioglossum malachurum', 'Lasioglossum malachurum', 'Lasioglossum malachurum', 'Lasioglossum malachurum', 'Lasioglossum malachurum', 'Lasioglossum malachurum', 'Lasioglossum marginatum', 'Lasioglossum mediterraneum', 'Lasioglossum morio', 'Lasioglossum morio', 'Lasioglossum nigripes', 'Lasioglossum nigripes', 'Lasioglossum nigripes', 'Lasioglossum nigripes', 'Lasioglossum nigripes', 'Lasioglossum nigripes', 'Lasioglossum nigripes', 'Lasioglossum nigripes', 'Lasioglossum nigripes', 'Lasioglossum nigripes', 'Lasioglossum pauxillum', 'Lasioglossum pauxillum', 'Lasioglossum pauxillum', 'Lasioglossum pauxillum', 'Lasioglossum pauxillum', 'Lasioglossum pauxillum', 'Lasioglossum pauxillum', 'Lasioglossum pauxillum', 'Lasioglossum pauxillum', 'Lasioglossum pauxillum', 'Lasioglossum villosulum', 'Lasioglossum villosulum', 'Lasioglossum villosulum', 'Lasioglossum villosulum', 'Lasioglossum villosulum', 'Lasioglossum villosulum', 'Lasioglossum zonulum', 'Sphecodes geoffrellus', 'Sphecodes Sphecodes_sp', 'Sphecodes Sphecodes_sp', 'Sphecodes Sphecodes_sp', 'Sphecodes Sphecodes_sp', 'Sphecodes Sphecodes_sp']\n",
    "\n",
    "species = set(species_list)\n",
    "\n",
    "species"
   ]
  },
  {
   "cell_type": "code",
   "execution_count": 10,
   "metadata": {
    "collapsed": false
   },
   "outputs": [
    {
     "name": "stdout",
     "output_type": "stream",
     "text": [
      "Lasioglossum zonulum\n",
      "Sphecodes Sphecodes_sp\n",
      "(ConnectionError(ReadTimeoutError(\"HTTPConnectionPool(host='www.boldsystems.org', port=80): Read timed out.\",),), 'Request timed out; does taxon exist?')\n",
      "Halictus scabiosae\n",
      "Lasioglossum fulvicorne\n",
      "Sphecodes geoffrellus\n",
      "Lasioglossum villosulum\n",
      "Lasioglossum albipes\n",
      "Lasioglossum pauxillum\n",
      "Halictus crenicornis\n",
      "Halictus fulvipes\n",
      "Lasioglossum lativentre\n",
      "Lasioglossum malachurum\n",
      "Lasioglossum interruptum\n",
      "Lasioglossum laevigatum\n",
      "Halictus tumulorum\n",
      "Halictus Halictus_sp\n",
      "(ConnectionError(ReadTimeoutError(\"HTTPConnectionPool(host='www.boldsystems.org', port=80): Read timed out.\",),), 'Request timed out; does taxon exist?')\n",
      "Lasioglossum calceatum\n",
      "Lasioglossum mediterraneum\n",
      "Lasioglossum morio\n",
      "Halictus maculatus\n",
      "Halictus pollinosus\n",
      "Halictus rubicundus\n",
      "Lasioglossum leucozonium\n",
      "Lasioglossum limbellum\n",
      "Lasioglossum marginatum\n",
      "Lasioglossum nigripes\n",
      "Lasioglossum laticeps\n"
     ]
    }
   ],
   "source": [
    "marker = 'COI-5P'\n",
    "headers = []\n",
    "seqs = []\n",
    "\n",
    "for taxon in species:\n",
    "    print(taxon)\n",
    "    header, seq, fastas = get_BOLD_consensus_seq(taxon, marker)\n",
    "    \n",
    "    if seq is None:\n",
    "        continue\n",
    "    \n",
    "    headers += [header]\n",
    "    seqs += [seq]\n",
    "    \n",
    "    with open('{0}.{1}.fasta'.format(re.sub (' ', '_', taxon),marker),'w') as f:\n",
    "        f.write(fastas)\n"
   ]
  },
  {
   "cell_type": "code",
   "execution_count": null,
   "metadata": {
    "collapsed": false
   },
   "outputs": [],
   "source": [
    "pairs = zip(headers, seqs)\n",
    "\n",
    "conseqs = SequenceCollection([DNASequence(seq,label) for (label, seq) in pairs])\n"
   ]
  },
  {
   "cell_type": "code",
   "execution_count": null,
   "metadata": {
    "collapsed": false
   },
   "outputs": [],
   "source": [
    "con_aln = muscle_align(conseqs.to_fasta())"
   ]
  },
  {
   "cell_type": "code",
   "execution_count": null,
   "metadata": {
    "collapsed": false
   },
   "outputs": [],
   "source": [
    "with open('{0}.{1}.{2}.fasta'.format('halictid',marker,'consensus'),'w') as f:\n",
    "    f.write(conseqs.to_fasta())\n",
    "with open('{0}.{1}.{2}.fasta'.format('halictid',marker,'consensus_align'),'w') as f:\n",
    "    f.write(con_aln[0])"
   ]
  },
  {
   "cell_type": "code",
   "execution_count": null,
   "metadata": {
    "collapsed": true
   },
   "outputs": [],
   "source": []
  }
 ],
 "metadata": {
  "kernelspec": {
   "display_name": "Python 2",
   "language": "python",
   "name": "python2"
  },
  "language_info": {
   "codemirror_mode": {
    "name": "ipython",
    "version": 2
   },
   "file_extension": ".py",
   "mimetype": "text/x-python",
   "name": "python",
   "nbconvert_exporter": "python",
   "pygments_lexer": "ipython2",
   "version": "2.7.11"
  }
 },
 "nbformat": 4,
 "nbformat_minor": 0
}
